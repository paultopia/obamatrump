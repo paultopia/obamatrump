{
 "cells": [
  {
   "cell_type": "code",
   "execution_count": 1,
   "metadata": {
    "collapsed": true
   },
   "outputs": [],
   "source": [
    "import pandas as pd\n",
    "import numpy as np\n",
    "%matplotlib inline\n",
    "import matplotlib.pyplot as plt\n",
    "import seaborn as sns\n",
    "from dirtyclean import clean"
   ]
  },
  {
   "cell_type": "code",
   "execution_count": 2,
   "metadata": {
    "collapsed": true
   },
   "outputs": [],
   "source": [
    "df = pd.read_csv(\"obama_trump_speeches_as_of080817.csv\")"
   ]
  },
  {
   "cell_type": "code",
   "execution_count": 3,
   "metadata": {
    "collapsed": false
   },
   "outputs": [
    {
     "data": {
      "text/html": [
       "<div>\n",
       "<style>\n",
       "    .dataframe thead tr:only-child th {\n",
       "        text-align: right;\n",
       "    }\n",
       "\n",
       "    .dataframe thead th {\n",
       "        text-align: left;\n",
       "    }\n",
       "\n",
       "    .dataframe tbody tr th {\n",
       "        vertical-align: top;\n",
       "    }\n",
       "</style>\n",
       "<table border=\"1\" class=\"dataframe\">\n",
       "  <thead>\n",
       "    <tr style=\"text-align: right;\">\n",
       "      <th></th>\n",
       "      <th>actual_president_guess</th>\n",
       "      <th>content</th>\n",
       "      <th>date</th>\n",
       "      <th>president</th>\n",
       "      <th>title</th>\n",
       "      <th>url</th>\n",
       "    </tr>\n",
       "  </thead>\n",
       "  <tbody>\n",
       "    <tr>\n",
       "      <th>0</th>\n",
       "      <td>True</td>\n",
       "      <td>\\n\\n\\n\\tTrump National Golf Club\\n\\tBedminster...</td>\n",
       "      <td>2017-08-08 17:55:00-04:00</td>\n",
       "      <td>Trump</td>\n",
       "      <td>Remarks by President Trump Before a Briefing o...</td>\n",
       "      <td>https://www.whitehouse.gov/the-press-office/20...</td>\n",
       "    </tr>\n",
       "    <tr>\n",
       "      <th>1</th>\n",
       "      <td>False</td>\n",
       "      <td>\\n\\n\\n\\tHyatt Regency Capitol Hill\\n\\tWashingt...</td>\n",
       "      <td>2017-08-04 21:45:00-04:00</td>\n",
       "      <td>Trump</td>\n",
       "      <td>Remarks by the Vice President to the Young Ame...</td>\n",
       "      <td>https://www.whitehouse.gov/the-press-office/20...</td>\n",
       "    </tr>\n",
       "    <tr>\n",
       "      <th>2</th>\n",
       "      <td>True</td>\n",
       "      <td>\\n\\n\\n\\tThe President’s Weekly Address is now ...</td>\n",
       "      <td>2017-08-04 20:39:00-04:00</td>\n",
       "      <td>Trump</td>\n",
       "      <td>President Donald J. Trump’s Weekly Address | w...</td>\n",
       "      <td>https://www.whitehouse.gov/the-press-office/20...</td>\n",
       "    </tr>\n",
       "    <tr>\n",
       "      <th>3</th>\n",
       "      <td>True</td>\n",
       "      <td>\\n\\n\\n\\tFEMA Headquarters\\n\\tWashington, D.C.\\...</td>\n",
       "      <td>2017-08-04 12:15:07-04:00</td>\n",
       "      <td>Trump</td>\n",
       "      <td>Remarks by President Trump at FEMA Headquarter...</td>\n",
       "      <td>https://www.whitehouse.gov/the-press-office/20...</td>\n",
       "    </tr>\n",
       "    <tr>\n",
       "      <th>4</th>\n",
       "      <td>True</td>\n",
       "      <td>\\n\\n\\n\\tRoosevelt Room\\n\\n\\t11:40 A.M. EDT\\n\\n...</td>\n",
       "      <td>2017-08-03 12:41:00-04:00</td>\n",
       "      <td>Trump</td>\n",
       "      <td>Remarks by President Trump at Department of Ve...</td>\n",
       "      <td>https://www.whitehouse.gov/the-press-office/20...</td>\n",
       "    </tr>\n",
       "  </tbody>\n",
       "</table>\n",
       "</div>"
      ],
      "text/plain": [
       "   actual_president_guess                                            content  \\\n",
       "0                    True  \\n\\n\\n\\tTrump National Golf Club\\n\\tBedminster...   \n",
       "1                   False  \\n\\n\\n\\tHyatt Regency Capitol Hill\\n\\tWashingt...   \n",
       "2                    True  \\n\\n\\n\\tThe President’s Weekly Address is now ...   \n",
       "3                    True  \\n\\n\\n\\tFEMA Headquarters\\n\\tWashington, D.C.\\...   \n",
       "4                    True  \\n\\n\\n\\tRoosevelt Room\\n\\n\\t11:40 A.M. EDT\\n\\n...   \n",
       "\n",
       "                        date president  \\\n",
       "0  2017-08-08 17:55:00-04:00     Trump   \n",
       "1  2017-08-04 21:45:00-04:00     Trump   \n",
       "2  2017-08-04 20:39:00-04:00     Trump   \n",
       "3  2017-08-04 12:15:07-04:00     Trump   \n",
       "4  2017-08-03 12:41:00-04:00     Trump   \n",
       "\n",
       "                                               title  \\\n",
       "0  Remarks by President Trump Before a Briefing o...   \n",
       "1  Remarks by the Vice President to the Young Ame...   \n",
       "2  President Donald J. Trump’s Weekly Address | w...   \n",
       "3  Remarks by President Trump at FEMA Headquarter...   \n",
       "4  Remarks by President Trump at Department of Ve...   \n",
       "\n",
       "                                                 url  \n",
       "0  https://www.whitehouse.gov/the-press-office/20...  \n",
       "1  https://www.whitehouse.gov/the-press-office/20...  \n",
       "2  https://www.whitehouse.gov/the-press-office/20...  \n",
       "3  https://www.whitehouse.gov/the-press-office/20...  \n",
       "4  https://www.whitehouse.gov/the-press-office/20...  "
      ]
     },
     "execution_count": 3,
     "metadata": {},
     "output_type": "execute_result"
    }
   ],
   "source": [
    "df.head()"
   ]
  },
  {
   "cell_type": "code",
   "execution_count": 4,
   "metadata": {
    "collapsed": false
   },
   "outputs": [
    {
     "data": {
      "text/plain": [
       "5036"
      ]
     },
     "execution_count": 4,
     "metadata": {},
     "output_type": "execute_result"
    }
   ],
   "source": [
    "len(df)"
   ]
  },
  {
   "cell_type": "code",
   "execution_count": 5,
   "metadata": {
    "collapsed": true
   },
   "outputs": [],
   "source": [
    "df[\"content\"] = df[\"content\"].apply(clean)"
   ]
  },
  {
   "cell_type": "code",
   "execution_count": 6,
   "metadata": {
    "collapsed": false
   },
   "outputs": [
    {
     "data": {
      "text/html": [
       "<div>\n",
       "<style>\n",
       "    .dataframe thead tr:only-child th {\n",
       "        text-align: right;\n",
       "    }\n",
       "\n",
       "    .dataframe thead th {\n",
       "        text-align: left;\n",
       "    }\n",
       "\n",
       "    .dataframe tbody tr th {\n",
       "        vertical-align: top;\n",
       "    }\n",
       "</style>\n",
       "<table border=\"1\" class=\"dataframe\">\n",
       "  <thead>\n",
       "    <tr style=\"text-align: right;\">\n",
       "      <th></th>\n",
       "      <th>actual_president_guess</th>\n",
       "      <th>content</th>\n",
       "      <th>date</th>\n",
       "      <th>president</th>\n",
       "      <th>title</th>\n",
       "      <th>url</th>\n",
       "    </tr>\n",
       "  </thead>\n",
       "  <tbody>\n",
       "    <tr>\n",
       "      <th>0</th>\n",
       "      <td>True</td>\n",
       "      <td>Trump National Golf Club Bedminster New Jersey...</td>\n",
       "      <td>2017-08-08 17:55:00-04:00</td>\n",
       "      <td>Trump</td>\n",
       "      <td>Remarks by President Trump Before a Briefing o...</td>\n",
       "      <td>https://www.whitehouse.gov/the-press-office/20...</td>\n",
       "    </tr>\n",
       "    <tr>\n",
       "      <th>1</th>\n",
       "      <td>False</td>\n",
       "      <td>Hyatt Regency Capitol Hill Washington D C P M ...</td>\n",
       "      <td>2017-08-04 21:45:00-04:00</td>\n",
       "      <td>Trump</td>\n",
       "      <td>Remarks by the Vice President to the Young Ame...</td>\n",
       "      <td>https://www.whitehouse.gov/the-press-office/20...</td>\n",
       "    </tr>\n",
       "    <tr>\n",
       "      <th>2</th>\n",
       "      <td>True</td>\n",
       "      <td>The President s Weekly Address is now availabl...</td>\n",
       "      <td>2017-08-04 20:39:00-04:00</td>\n",
       "      <td>Trump</td>\n",
       "      <td>President Donald J. Trump’s Weekly Address | w...</td>\n",
       "      <td>https://www.whitehouse.gov/the-press-office/20...</td>\n",
       "    </tr>\n",
       "    <tr>\n",
       "      <th>3</th>\n",
       "      <td>True</td>\n",
       "      <td>FEMA Headquarters Washington D C A M EDT THE P...</td>\n",
       "      <td>2017-08-04 12:15:07-04:00</td>\n",
       "      <td>Trump</td>\n",
       "      <td>Remarks by President Trump at FEMA Headquarter...</td>\n",
       "      <td>https://www.whitehouse.gov/the-press-office/20...</td>\n",
       "    </tr>\n",
       "    <tr>\n",
       "      <th>4</th>\n",
       "      <td>True</td>\n",
       "      <td>Roosevelt Room A M EDT THE PRESIDENT Good morn...</td>\n",
       "      <td>2017-08-03 12:41:00-04:00</td>\n",
       "      <td>Trump</td>\n",
       "      <td>Remarks by President Trump at Department of Ve...</td>\n",
       "      <td>https://www.whitehouse.gov/the-press-office/20...</td>\n",
       "    </tr>\n",
       "  </tbody>\n",
       "</table>\n",
       "</div>"
      ],
      "text/plain": [
       "   actual_president_guess                                            content  \\\n",
       "0                    True  Trump National Golf Club Bedminster New Jersey...   \n",
       "1                   False  Hyatt Regency Capitol Hill Washington D C P M ...   \n",
       "2                    True  The President s Weekly Address is now availabl...   \n",
       "3                    True  FEMA Headquarters Washington D C A M EDT THE P...   \n",
       "4                    True  Roosevelt Room A M EDT THE PRESIDENT Good morn...   \n",
       "\n",
       "                        date president  \\\n",
       "0  2017-08-08 17:55:00-04:00     Trump   \n",
       "1  2017-08-04 21:45:00-04:00     Trump   \n",
       "2  2017-08-04 20:39:00-04:00     Trump   \n",
       "3  2017-08-04 12:15:07-04:00     Trump   \n",
       "4  2017-08-03 12:41:00-04:00     Trump   \n",
       "\n",
       "                                               title  \\\n",
       "0  Remarks by President Trump Before a Briefing o...   \n",
       "1  Remarks by the Vice President to the Young Ame...   \n",
       "2  President Donald J. Trump’s Weekly Address | w...   \n",
       "3  Remarks by President Trump at FEMA Headquarter...   \n",
       "4  Remarks by President Trump at Department of Ve...   \n",
       "\n",
       "                                                 url  \n",
       "0  https://www.whitehouse.gov/the-press-office/20...  \n",
       "1  https://www.whitehouse.gov/the-press-office/20...  \n",
       "2  https://www.whitehouse.gov/the-press-office/20...  \n",
       "3  https://www.whitehouse.gov/the-press-office/20...  \n",
       "4  https://www.whitehouse.gov/the-press-office/20...  "
      ]
     },
     "execution_count": 6,
     "metadata": {},
     "output_type": "execute_result"
    }
   ],
   "source": [
    "df.head()"
   ]
  },
  {
   "cell_type": "code",
   "execution_count": 7,
   "metadata": {
    "collapsed": false
   },
   "outputs": [],
   "source": [
    "df[\"content\"] = df[\"content\"].apply(lambda x: x.lower())"
   ]
  },
  {
   "cell_type": "code",
   "execution_count": 8,
   "metadata": {
    "collapsed": false
   },
   "outputs": [
    {
     "data": {
      "text/html": [
       "<div>\n",
       "<style>\n",
       "    .dataframe thead tr:only-child th {\n",
       "        text-align: right;\n",
       "    }\n",
       "\n",
       "    .dataframe thead th {\n",
       "        text-align: left;\n",
       "    }\n",
       "\n",
       "    .dataframe tbody tr th {\n",
       "        vertical-align: top;\n",
       "    }\n",
       "</style>\n",
       "<table border=\"1\" class=\"dataframe\">\n",
       "  <thead>\n",
       "    <tr style=\"text-align: right;\">\n",
       "      <th></th>\n",
       "      <th>actual_president_guess</th>\n",
       "      <th>content</th>\n",
       "      <th>date</th>\n",
       "      <th>president</th>\n",
       "      <th>title</th>\n",
       "      <th>url</th>\n",
       "    </tr>\n",
       "  </thead>\n",
       "  <tbody>\n",
       "    <tr>\n",
       "      <th>0</th>\n",
       "      <td>True</td>\n",
       "      <td>trump national golf club bedminster new jersey...</td>\n",
       "      <td>2017-08-08 17:55:00-04:00</td>\n",
       "      <td>Trump</td>\n",
       "      <td>Remarks by President Trump Before a Briefing o...</td>\n",
       "      <td>https://www.whitehouse.gov/the-press-office/20...</td>\n",
       "    </tr>\n",
       "    <tr>\n",
       "      <th>1</th>\n",
       "      <td>False</td>\n",
       "      <td>hyatt regency capitol hill washington d c p m ...</td>\n",
       "      <td>2017-08-04 21:45:00-04:00</td>\n",
       "      <td>Trump</td>\n",
       "      <td>Remarks by the Vice President to the Young Ame...</td>\n",
       "      <td>https://www.whitehouse.gov/the-press-office/20...</td>\n",
       "    </tr>\n",
       "    <tr>\n",
       "      <th>2</th>\n",
       "      <td>True</td>\n",
       "      <td>the president s weekly address is now availabl...</td>\n",
       "      <td>2017-08-04 20:39:00-04:00</td>\n",
       "      <td>Trump</td>\n",
       "      <td>President Donald J. Trump’s Weekly Address | w...</td>\n",
       "      <td>https://www.whitehouse.gov/the-press-office/20...</td>\n",
       "    </tr>\n",
       "    <tr>\n",
       "      <th>3</th>\n",
       "      <td>True</td>\n",
       "      <td>fema headquarters washington d c a m edt the p...</td>\n",
       "      <td>2017-08-04 12:15:07-04:00</td>\n",
       "      <td>Trump</td>\n",
       "      <td>Remarks by President Trump at FEMA Headquarter...</td>\n",
       "      <td>https://www.whitehouse.gov/the-press-office/20...</td>\n",
       "    </tr>\n",
       "    <tr>\n",
       "      <th>4</th>\n",
       "      <td>True</td>\n",
       "      <td>roosevelt room a m edt the president good morn...</td>\n",
       "      <td>2017-08-03 12:41:00-04:00</td>\n",
       "      <td>Trump</td>\n",
       "      <td>Remarks by President Trump at Department of Ve...</td>\n",
       "      <td>https://www.whitehouse.gov/the-press-office/20...</td>\n",
       "    </tr>\n",
       "  </tbody>\n",
       "</table>\n",
       "</div>"
      ],
      "text/plain": [
       "   actual_president_guess                                            content  \\\n",
       "0                    True  trump national golf club bedminster new jersey...   \n",
       "1                   False  hyatt regency capitol hill washington d c p m ...   \n",
       "2                    True  the president s weekly address is now availabl...   \n",
       "3                    True  fema headquarters washington d c a m edt the p...   \n",
       "4                    True  roosevelt room a m edt the president good morn...   \n",
       "\n",
       "                        date president  \\\n",
       "0  2017-08-08 17:55:00-04:00     Trump   \n",
       "1  2017-08-04 21:45:00-04:00     Trump   \n",
       "2  2017-08-04 20:39:00-04:00     Trump   \n",
       "3  2017-08-04 12:15:07-04:00     Trump   \n",
       "4  2017-08-03 12:41:00-04:00     Trump   \n",
       "\n",
       "                                               title  \\\n",
       "0  Remarks by President Trump Before a Briefing o...   \n",
       "1  Remarks by the Vice President to the Young Ame...   \n",
       "2  President Donald J. Trump’s Weekly Address | w...   \n",
       "3  Remarks by President Trump at FEMA Headquarter...   \n",
       "4  Remarks by President Trump at Department of Ve...   \n",
       "\n",
       "                                                 url  \n",
       "0  https://www.whitehouse.gov/the-press-office/20...  \n",
       "1  https://www.whitehouse.gov/the-press-office/20...  \n",
       "2  https://www.whitehouse.gov/the-press-office/20...  \n",
       "3  https://www.whitehouse.gov/the-press-office/20...  \n",
       "4  https://www.whitehouse.gov/the-press-office/20...  "
      ]
     },
     "execution_count": 8,
     "metadata": {},
     "output_type": "execute_result"
    }
   ],
   "source": [
    "df.head()"
   ]
  },
  {
   "cell_type": "code",
   "execution_count": 9,
   "metadata": {
    "collapsed": true
   },
   "outputs": [],
   "source": [
    "from nltk.corpus import stopwords\n",
    "sw = stopwords.words(\"english\")\n",
    "def remove_stopwords(s):\n",
    "    words = s.split(\" \")\n",
    "    goodwords = [x for x in words if x not in sw]\n",
    "    return \" \".join(goodwords)\n",
    "df[\"simple_content\"] = df[\"content\"].apply(remove_stopwords)"
   ]
  },
  {
   "cell_type": "code",
   "execution_count": 10,
   "metadata": {
    "collapsed": false
   },
   "outputs": [
    {
     "data": {
      "text/html": [
       "<div>\n",
       "<style>\n",
       "    .dataframe thead tr:only-child th {\n",
       "        text-align: right;\n",
       "    }\n",
       "\n",
       "    .dataframe thead th {\n",
       "        text-align: left;\n",
       "    }\n",
       "\n",
       "    .dataframe tbody tr th {\n",
       "        vertical-align: top;\n",
       "    }\n",
       "</style>\n",
       "<table border=\"1\" class=\"dataframe\">\n",
       "  <thead>\n",
       "    <tr style=\"text-align: right;\">\n",
       "      <th></th>\n",
       "      <th>actual_president_guess</th>\n",
       "      <th>content</th>\n",
       "      <th>date</th>\n",
       "      <th>president</th>\n",
       "      <th>title</th>\n",
       "      <th>url</th>\n",
       "      <th>simple_content</th>\n",
       "    </tr>\n",
       "  </thead>\n",
       "  <tbody>\n",
       "    <tr>\n",
       "      <th>0</th>\n",
       "      <td>True</td>\n",
       "      <td>trump national golf club bedminster new jersey...</td>\n",
       "      <td>2017-08-08 17:55:00-04:00</td>\n",
       "      <td>Trump</td>\n",
       "      <td>Remarks by President Trump Before a Briefing o...</td>\n",
       "      <td>https://www.whitehouse.gov/the-press-office/20...</td>\n",
       "      <td>trump national golf club bedminster new jersey...</td>\n",
       "    </tr>\n",
       "    <tr>\n",
       "      <th>1</th>\n",
       "      <td>False</td>\n",
       "      <td>hyatt regency capitol hill washington d c p m ...</td>\n",
       "      <td>2017-08-04 21:45:00-04:00</td>\n",
       "      <td>Trump</td>\n",
       "      <td>Remarks by the Vice President to the Young Ame...</td>\n",
       "      <td>https://www.whitehouse.gov/the-press-office/20...</td>\n",
       "      <td>hyatt regency capitol hill washington c p edt ...</td>\n",
       "    </tr>\n",
       "    <tr>\n",
       "      <th>2</th>\n",
       "      <td>True</td>\n",
       "      <td>the president s weekly address is now availabl...</td>\n",
       "      <td>2017-08-04 20:39:00-04:00</td>\n",
       "      <td>Trump</td>\n",
       "      <td>President Donald J. Trump’s Weekly Address | w...</td>\n",
       "      <td>https://www.whitehouse.gov/the-press-office/20...</td>\n",
       "      <td>president weekly address available watch youtu...</td>\n",
       "    </tr>\n",
       "    <tr>\n",
       "      <th>3</th>\n",
       "      <td>True</td>\n",
       "      <td>fema headquarters washington d c a m edt the p...</td>\n",
       "      <td>2017-08-04 12:15:07-04:00</td>\n",
       "      <td>Trump</td>\n",
       "      <td>Remarks by President Trump at FEMA Headquarter...</td>\n",
       "      <td>https://www.whitehouse.gov/the-press-office/20...</td>\n",
       "      <td>fema headquarters washington c edt president o...</td>\n",
       "    </tr>\n",
       "    <tr>\n",
       "      <th>4</th>\n",
       "      <td>True</td>\n",
       "      <td>roosevelt room a m edt the president good morn...</td>\n",
       "      <td>2017-08-03 12:41:00-04:00</td>\n",
       "      <td>Trump</td>\n",
       "      <td>Remarks by President Trump at Department of Ve...</td>\n",
       "      <td>https://www.whitehouse.gov/the-press-office/20...</td>\n",
       "      <td>roosevelt room edt president good morning like...</td>\n",
       "    </tr>\n",
       "  </tbody>\n",
       "</table>\n",
       "</div>"
      ],
      "text/plain": [
       "   actual_president_guess                                            content  \\\n",
       "0                    True  trump national golf club bedminster new jersey...   \n",
       "1                   False  hyatt regency capitol hill washington d c p m ...   \n",
       "2                    True  the president s weekly address is now availabl...   \n",
       "3                    True  fema headquarters washington d c a m edt the p...   \n",
       "4                    True  roosevelt room a m edt the president good morn...   \n",
       "\n",
       "                        date president  \\\n",
       "0  2017-08-08 17:55:00-04:00     Trump   \n",
       "1  2017-08-04 21:45:00-04:00     Trump   \n",
       "2  2017-08-04 20:39:00-04:00     Trump   \n",
       "3  2017-08-04 12:15:07-04:00     Trump   \n",
       "4  2017-08-03 12:41:00-04:00     Trump   \n",
       "\n",
       "                                               title  \\\n",
       "0  Remarks by President Trump Before a Briefing o...   \n",
       "1  Remarks by the Vice President to the Young Ame...   \n",
       "2  President Donald J. Trump’s Weekly Address | w...   \n",
       "3  Remarks by President Trump at FEMA Headquarter...   \n",
       "4  Remarks by President Trump at Department of Ve...   \n",
       "\n",
       "                                                 url  \\\n",
       "0  https://www.whitehouse.gov/the-press-office/20...   \n",
       "1  https://www.whitehouse.gov/the-press-office/20...   \n",
       "2  https://www.whitehouse.gov/the-press-office/20...   \n",
       "3  https://www.whitehouse.gov/the-press-office/20...   \n",
       "4  https://www.whitehouse.gov/the-press-office/20...   \n",
       "\n",
       "                                      simple_content  \n",
       "0  trump national golf club bedminster new jersey...  \n",
       "1  hyatt regency capitol hill washington c p edt ...  \n",
       "2  president weekly address available watch youtu...  \n",
       "3  fema headquarters washington c edt president o...  \n",
       "4  roosevelt room edt president good morning like...  "
      ]
     },
     "execution_count": 10,
     "metadata": {},
     "output_type": "execute_result"
    }
   ],
   "source": [
    "df.head()"
   ]
  },
  {
   "cell_type": "code",
   "execution_count": 13,
   "metadata": {
    "collapsed": true
   },
   "outputs": [],
   "source": [
    "tokens = pd.DataFrame(df[\"simple_content\"].str.split(' ', expand=True))"
   ]
  },
  {
   "cell_type": "code",
   "execution_count": 14,
   "metadata": {
    "collapsed": false
   },
   "outputs": [
    {
     "data": {
      "text/plain": [
       "(5036, 8593)"
      ]
     },
     "execution_count": 14,
     "metadata": {},
     "output_type": "execute_result"
    }
   ],
   "source": [
    "tokens.shape"
   ]
  },
  {
   "cell_type": "code",
   "execution_count": 15,
   "metadata": {
    "collapsed": false
   },
   "outputs": [
    {
     "data": {
      "text/plain": [
       "4718"
      ]
     },
     "execution_count": 15,
     "metadata": {},
     "output_type": "execute_result"
    }
   ],
   "source": [
    "# this is a super-unbalanced class situation...\n",
    "len(df[df[\"president\"] == \"Obama\"])"
   ]
  },
  {
   "cell_type": "markdown",
   "metadata": {},
   "source": [
    "I'm going to try undersampling Obama (though that will dump a ton of data) by limiting his corpus to the same time period as Trump's, i.e., the first six months or so of the presidency."
   ]
  },
  {
   "cell_type": "code",
   "execution_count": 19,
   "metadata": {
    "collapsed": false
   },
   "outputs": [],
   "source": [
    "# first let's make sure I have proper datetime objects in there\n",
    "dtest = df.iloc[0][\"date\"]"
   ]
  },
  {
   "cell_type": "code",
   "execution_count": 21,
   "metadata": {
    "collapsed": false
   },
   "outputs": [
    {
     "data": {
      "text/plain": [
       "str"
      ]
     },
     "execution_count": 21,
     "metadata": {},
     "output_type": "execute_result"
    }
   ],
   "source": [
    "type(dtest)"
   ]
  },
  {
   "cell_type": "code",
   "execution_count": 24,
   "metadata": {
    "collapsed": false
   },
   "outputs": [
    {
     "ename": "TypeError",
     "evalue": "can't compare offset-naive and offset-aware datetimes",
     "output_type": "error",
     "traceback": [
      "\u001b[0;31m---------------------------------------------------------------------------\u001b[0m",
      "\u001b[0;31mTypeError\u001b[0m                                 Traceback (most recent call last)",
      "\u001b[0;32m<ipython-input-24-c34da1c6bfdd>\u001b[0m in \u001b[0;36m<module>\u001b[0;34m()\u001b[0m\n\u001b[1;32m      4\u001b[0m \u001b[0mcutoff_date\u001b[0m \u001b[0;34m=\u001b[0m \u001b[0mdatetime\u001b[0m\u001b[0;34m.\u001b[0m\u001b[0mstrptime\u001b[0m\u001b[0;34m(\u001b[0m\u001b[0;34m\"2009-08-08\"\u001b[0m\u001b[0;34m,\u001b[0m \u001b[0;34m\"%Y-%m-%d\"\u001b[0m\u001b[0;34m)\u001b[0m \u001b[0;31m# I have trump speeches scraped on 080817\u001b[0m\u001b[0;34m\u001b[0m\u001b[0m\n\u001b[1;32m      5\u001b[0m \u001b[0;31m# idiot test\u001b[0m\u001b[0;34m\u001b[0m\u001b[0;34m\u001b[0m\u001b[0m\n\u001b[0;32m----> 6\u001b[0;31m \u001b[0mdtest\u001b[0m \u001b[0;34m=\u001b[0m \u001b[0mdateutil\u001b[0m\u001b[0;34m.\u001b[0m\u001b[0mparser\u001b[0m\u001b[0;34m.\u001b[0m\u001b[0mparse\u001b[0m\u001b[0;34m(\u001b[0m\u001b[0mdtest\u001b[0m\u001b[0;34m)\u001b[0m \u001b[0;34m>\u001b[0m \u001b[0mcutoff_date\u001b[0m\u001b[0;34m\u001b[0m\u001b[0m\n\u001b[0m",
      "\u001b[0;31mTypeError\u001b[0m: can't compare offset-naive and offset-aware datetimes"
     ]
    }
   ],
   "source": [
    "# well, that's annoying.  I suppose that makes sense, though, come to think of it, it did get run through csv. And I forgot to parse when reading.\n",
    "import dateutil\n",
    "from datetime import datetime\n",
    "cutoff_date = datetime.strptime(\"2009-08-08\", \"%Y-%m-%d\") # I have trump speeches scraped on 080817\n",
    "# idiot test\n",
    "dtest = dateutil.parser.parse(dtest) > cutoff_date"
   ]
  },
  {
   "cell_type": "code",
   "execution_count": 25,
   "metadata": {
    "collapsed": false
   },
   "outputs": [
    {
     "data": {
      "text/plain": [
       "'2017-08-08 17:55:00-04:00'"
      ]
     },
     "execution_count": 25,
     "metadata": {},
     "output_type": "execute_result"
    }
   ],
   "source": [
    "dtest"
   ]
  },
  {
   "cell_type": "code",
   "execution_count": 26,
   "metadata": {
    "collapsed": false
   },
   "outputs": [
    {
     "data": {
      "text/plain": [
       "datetime.datetime(2009, 8, 8, 0, 0)"
      ]
     },
     "execution_count": 26,
     "metadata": {},
     "output_type": "execute_result"
    }
   ],
   "source": [
    "cutoff_date"
   ]
  },
  {
   "cell_type": "code",
   "execution_count": 27,
   "metadata": {
    "collapsed": false
   },
   "outputs": [
    {
     "data": {
      "text/plain": [
       "datetime.datetime(2017, 8, 8, 17, 55, tzinfo=tzoffset(None, -14400))"
      ]
     },
     "execution_count": 27,
     "metadata": {},
     "output_type": "execute_result"
    }
   ],
   "source": [
    "dateutil.parser.parse(dtest)"
   ]
  },
  {
   "cell_type": "code",
   "execution_count": 28,
   "metadata": {
    "collapsed": true
   },
   "outputs": [],
   "source": [
    "dtest = dateutil.parser.parse(dtest).replace(tzinfo=None)"
   ]
  },
  {
   "cell_type": "code",
   "execution_count": 29,
   "metadata": {
    "collapsed": false
   },
   "outputs": [
    {
     "data": {
      "text/plain": [
       "datetime.datetime(2017, 8, 8, 17, 55)"
      ]
     },
     "execution_count": 29,
     "metadata": {},
     "output_type": "execute_result"
    }
   ],
   "source": [
    "dtest"
   ]
  },
  {
   "cell_type": "code",
   "execution_count": 30,
   "metadata": {
    "collapsed": false
   },
   "outputs": [
    {
     "data": {
      "text/plain": [
       "True"
      ]
     },
     "execution_count": 30,
     "metadata": {},
     "output_type": "execute_result"
    }
   ],
   "source": [
    "dtest > cutoff_date"
   ]
  },
  {
   "cell_type": "code",
   "execution_count": 31,
   "metadata": {
    "collapsed": true
   },
   "outputs": [],
   "source": [
    "def make_dt(ds):\n",
    "    return dateutil.parser.parse(ds).replace(tzinfo=None)\n",
    "df[\"date\"] = df[\"date\"].apply(make_dt)"
   ]
  },
  {
   "cell_type": "code",
   "execution_count": 35,
   "metadata": {
    "collapsed": false
   },
   "outputs": [],
   "source": [
    "lildf = df[(df[\"president\"] == \"Trump\") | (df[\"date\"] <= cutoff_date)]"
   ]
  },
  {
   "cell_type": "code",
   "execution_count": 36,
   "metadata": {
    "collapsed": false
   },
   "outputs": [
    {
     "data": {
      "text/plain": [
       "(732, 7)"
      ]
     },
     "execution_count": 36,
     "metadata": {},
     "output_type": "execute_result"
    }
   ],
   "source": [
    "lildf.shape"
   ]
  },
  {
   "cell_type": "code",
   "execution_count": 37,
   "metadata": {
    "collapsed": true
   },
   "outputs": [],
   "source": [
    "# well, that ain't a lot, and it'll be even worse when we get to just president speeches but let's see what happens!\n",
    "liltokens = tokens[(df[\"president\"] == \"Trump\") | (df[\"date\"] <= cutoff_date)]"
   ]
  },
  {
   "cell_type": "code",
   "execution_count": 38,
   "metadata": {
    "collapsed": false
   },
   "outputs": [
    {
     "data": {
      "text/plain": [
       "732"
      ]
     },
     "execution_count": 38,
     "metadata": {},
     "output_type": "execute_result"
    }
   ],
   "source": [
    "# making sure I'm not screwing up\n",
    "len(lildf)"
   ]
  },
  {
   "cell_type": "code",
   "execution_count": 39,
   "metadata": {
    "collapsed": false
   },
   "outputs": [
    {
     "data": {
      "text/html": [
       "<div>\n",
       "<style>\n",
       "    .dataframe thead tr:only-child th {\n",
       "        text-align: right;\n",
       "    }\n",
       "\n",
       "    .dataframe thead th {\n",
       "        text-align: left;\n",
       "    }\n",
       "\n",
       "    .dataframe tbody tr th {\n",
       "        vertical-align: top;\n",
       "    }\n",
       "</style>\n",
       "<table border=\"1\" class=\"dataframe\">\n",
       "  <thead>\n",
       "    <tr style=\"text-align: right;\">\n",
       "      <th></th>\n",
       "      <th>0</th>\n",
       "      <th>1</th>\n",
       "      <th>2</th>\n",
       "      <th>3</th>\n",
       "      <th>4</th>\n",
       "      <th>5</th>\n",
       "      <th>6</th>\n",
       "      <th>7</th>\n",
       "      <th>8</th>\n",
       "      <th>9</th>\n",
       "      <th>...</th>\n",
       "      <th>8583</th>\n",
       "      <th>8584</th>\n",
       "      <th>8585</th>\n",
       "      <th>8586</th>\n",
       "      <th>8587</th>\n",
       "      <th>8588</th>\n",
       "      <th>8589</th>\n",
       "      <th>8590</th>\n",
       "      <th>8591</th>\n",
       "      <th>8592</th>\n",
       "    </tr>\n",
       "  </thead>\n",
       "  <tbody>\n",
       "    <tr>\n",
       "      <th>0</th>\n",
       "      <td>trump</td>\n",
       "      <td>national</td>\n",
       "      <td>golf</td>\n",
       "      <td>club</td>\n",
       "      <td>bedminster</td>\n",
       "      <td>new</td>\n",
       "      <td>jersey</td>\n",
       "      <td>p</td>\n",
       "      <td>edt</td>\n",
       "      <td>president</td>\n",
       "      <td>...</td>\n",
       "      <td>None</td>\n",
       "      <td>None</td>\n",
       "      <td>None</td>\n",
       "      <td>None</td>\n",
       "      <td>None</td>\n",
       "      <td>None</td>\n",
       "      <td>None</td>\n",
       "      <td>None</td>\n",
       "      <td>None</td>\n",
       "      <td>None</td>\n",
       "    </tr>\n",
       "    <tr>\n",
       "      <th>1</th>\n",
       "      <td>hyatt</td>\n",
       "      <td>regency</td>\n",
       "      <td>capitol</td>\n",
       "      <td>hill</td>\n",
       "      <td>washington</td>\n",
       "      <td>c</td>\n",
       "      <td>p</td>\n",
       "      <td>edt</td>\n",
       "      <td>vice</td>\n",
       "      <td>president</td>\n",
       "      <td>...</td>\n",
       "      <td>None</td>\n",
       "      <td>None</td>\n",
       "      <td>None</td>\n",
       "      <td>None</td>\n",
       "      <td>None</td>\n",
       "      <td>None</td>\n",
       "      <td>None</td>\n",
       "      <td>None</td>\n",
       "      <td>None</td>\n",
       "      <td>None</td>\n",
       "    </tr>\n",
       "    <tr>\n",
       "      <th>2</th>\n",
       "      <td>president</td>\n",
       "      <td>weekly</td>\n",
       "      <td>address</td>\n",
       "      <td>available</td>\n",
       "      <td>watch</td>\n",
       "      <td>youtube</td>\n",
       "      <td>facebook</td>\n",
       "      <td>twitter</td>\n",
       "      <td>wh</td>\n",
       "      <td>gov</td>\n",
       "      <td>...</td>\n",
       "      <td>None</td>\n",
       "      <td>None</td>\n",
       "      <td>None</td>\n",
       "      <td>None</td>\n",
       "      <td>None</td>\n",
       "      <td>None</td>\n",
       "      <td>None</td>\n",
       "      <td>None</td>\n",
       "      <td>None</td>\n",
       "      <td>None</td>\n",
       "    </tr>\n",
       "    <tr>\n",
       "      <th>3</th>\n",
       "      <td>fema</td>\n",
       "      <td>headquarters</td>\n",
       "      <td>washington</td>\n",
       "      <td>c</td>\n",
       "      <td>edt</td>\n",
       "      <td>president</td>\n",
       "      <td>okay</td>\n",
       "      <td>thank</td>\n",
       "      <td>much</td>\n",
       "      <td>want</td>\n",
       "      <td>...</td>\n",
       "      <td>None</td>\n",
       "      <td>None</td>\n",
       "      <td>None</td>\n",
       "      <td>None</td>\n",
       "      <td>None</td>\n",
       "      <td>None</td>\n",
       "      <td>None</td>\n",
       "      <td>None</td>\n",
       "      <td>None</td>\n",
       "      <td>None</td>\n",
       "    </tr>\n",
       "    <tr>\n",
       "      <th>4</th>\n",
       "      <td>roosevelt</td>\n",
       "      <td>room</td>\n",
       "      <td>edt</td>\n",
       "      <td>president</td>\n",
       "      <td>good</td>\n",
       "      <td>morning</td>\n",
       "      <td>like</td>\n",
       "      <td>begin</td>\n",
       "      <td>thanking</td>\n",
       "      <td>secretary</td>\n",
       "      <td>...</td>\n",
       "      <td>None</td>\n",
       "      <td>None</td>\n",
       "      <td>None</td>\n",
       "      <td>None</td>\n",
       "      <td>None</td>\n",
       "      <td>None</td>\n",
       "      <td>None</td>\n",
       "      <td>None</td>\n",
       "      <td>None</td>\n",
       "      <td>None</td>\n",
       "    </tr>\n",
       "  </tbody>\n",
       "</table>\n",
       "<p>5 rows × 8593 columns</p>\n",
       "</div>"
      ],
      "text/plain": [
       "        0             1           2          3           4          5     \\\n",
       "0      trump      national        golf       club  bedminster        new   \n",
       "1      hyatt       regency     capitol       hill  washington          c   \n",
       "2  president        weekly     address  available       watch    youtube   \n",
       "3       fema  headquarters  washington          c         edt  president   \n",
       "4  roosevelt          room         edt  president        good    morning   \n",
       "\n",
       "       6        7         8          9     ...   8583  8584  8585  8586  8587  \\\n",
       "0    jersey        p       edt  president  ...   None  None  None  None  None   \n",
       "1         p      edt      vice  president  ...   None  None  None  None  None   \n",
       "2  facebook  twitter        wh        gov  ...   None  None  None  None  None   \n",
       "3      okay    thank      much       want  ...   None  None  None  None  None   \n",
       "4      like    begin  thanking  secretary  ...   None  None  None  None  None   \n",
       "\n",
       "   8588  8589  8590  8591  8592  \n",
       "0  None  None  None  None  None  \n",
       "1  None  None  None  None  None  \n",
       "2  None  None  None  None  None  \n",
       "3  None  None  None  None  None  \n",
       "4  None  None  None  None  None  \n",
       "\n",
       "[5 rows x 8593 columns]"
      ]
     },
     "execution_count": 39,
     "metadata": {},
     "output_type": "execute_result"
    }
   ],
   "source": [
    "# well, 10x features/observations now.  YOLO.  Let's see if I can get anything exciting predictively.\n",
    "# wait a minute.  7 or 8k is way too small here...\n",
    "liltokens.head()"
   ]
  },
  {
   "cell_type": "code",
   "execution_count": 41,
   "metadata": {
    "collapsed": false
   },
   "outputs": [],
   "source": [
    "#well that ain't exactly rational is it?  I forgot to binarize them.  duhhh.\n",
    "from sklearn.feature_extraction.text import CountVectorizer\n",
    "countvec = CountVectorizer()\n",
    "tokens = pd.DataFrame(countvec.fit_transform(df[\"simple_content\"]).toarray(), columns=countvec.get_feature_names())"
   ]
  },
  {
   "cell_type": "code",
   "execution_count": 42,
   "metadata": {
    "collapsed": false,
    "scrolled": true
   },
   "outputs": [
    {
     "data": {
      "text/html": [
       "<div>\n",
       "<style>\n",
       "    .dataframe thead tr:only-child th {\n",
       "        text-align: right;\n",
       "    }\n",
       "\n",
       "    .dataframe thead th {\n",
       "        text-align: left;\n",
       "    }\n",
       "\n",
       "    .dataframe tbody tr th {\n",
       "        vertical-align: top;\n",
       "    }\n",
       "</style>\n",
       "<table border=\"1\" class=\"dataframe\">\n",
       "  <thead>\n",
       "    <tr style=\"text-align: right;\">\n",
       "      <th></th>\n",
       "      <th>aa</th>\n",
       "      <th>aaa</th>\n",
       "      <th>aahhhh</th>\n",
       "      <th>aai</th>\n",
       "      <th>aala</th>\n",
       "      <th>aamat</th>\n",
       "      <th>aamc</th>\n",
       "      <th>aamer</th>\n",
       "      <th>aand</th>\n",
       "      <th>aapi</th>\n",
       "      <th>...</th>\n",
       "      <th>últimas</th>\n",
       "      <th>último</th>\n",
       "      <th>últimos</th>\n",
       "      <th>única</th>\n",
       "      <th>únicamente</th>\n",
       "      <th>únicas</th>\n",
       "      <th>único</th>\n",
       "      <th>únicos</th>\n",
       "      <th>łask</th>\n",
       "      <th>ơn</th>\n",
       "    </tr>\n",
       "  </thead>\n",
       "  <tbody>\n",
       "    <tr>\n",
       "      <th>0</th>\n",
       "      <td>0</td>\n",
       "      <td>0</td>\n",
       "      <td>0</td>\n",
       "      <td>0</td>\n",
       "      <td>0</td>\n",
       "      <td>0</td>\n",
       "      <td>0</td>\n",
       "      <td>0</td>\n",
       "      <td>0</td>\n",
       "      <td>0</td>\n",
       "      <td>...</td>\n",
       "      <td>0</td>\n",
       "      <td>0</td>\n",
       "      <td>0</td>\n",
       "      <td>0</td>\n",
       "      <td>0</td>\n",
       "      <td>0</td>\n",
       "      <td>0</td>\n",
       "      <td>0</td>\n",
       "      <td>0</td>\n",
       "      <td>0</td>\n",
       "    </tr>\n",
       "    <tr>\n",
       "      <th>1</th>\n",
       "      <td>0</td>\n",
       "      <td>0</td>\n",
       "      <td>0</td>\n",
       "      <td>0</td>\n",
       "      <td>0</td>\n",
       "      <td>0</td>\n",
       "      <td>0</td>\n",
       "      <td>0</td>\n",
       "      <td>0</td>\n",
       "      <td>0</td>\n",
       "      <td>...</td>\n",
       "      <td>0</td>\n",
       "      <td>0</td>\n",
       "      <td>0</td>\n",
       "      <td>0</td>\n",
       "      <td>0</td>\n",
       "      <td>0</td>\n",
       "      <td>0</td>\n",
       "      <td>0</td>\n",
       "      <td>0</td>\n",
       "      <td>0</td>\n",
       "    </tr>\n",
       "    <tr>\n",
       "      <th>2</th>\n",
       "      <td>0</td>\n",
       "      <td>0</td>\n",
       "      <td>0</td>\n",
       "      <td>0</td>\n",
       "      <td>0</td>\n",
       "      <td>0</td>\n",
       "      <td>0</td>\n",
       "      <td>0</td>\n",
       "      <td>0</td>\n",
       "      <td>0</td>\n",
       "      <td>...</td>\n",
       "      <td>0</td>\n",
       "      <td>0</td>\n",
       "      <td>0</td>\n",
       "      <td>0</td>\n",
       "      <td>0</td>\n",
       "      <td>0</td>\n",
       "      <td>0</td>\n",
       "      <td>0</td>\n",
       "      <td>0</td>\n",
       "      <td>0</td>\n",
       "    </tr>\n",
       "    <tr>\n",
       "      <th>3</th>\n",
       "      <td>0</td>\n",
       "      <td>0</td>\n",
       "      <td>0</td>\n",
       "      <td>0</td>\n",
       "      <td>0</td>\n",
       "      <td>0</td>\n",
       "      <td>0</td>\n",
       "      <td>0</td>\n",
       "      <td>0</td>\n",
       "      <td>0</td>\n",
       "      <td>...</td>\n",
       "      <td>0</td>\n",
       "      <td>0</td>\n",
       "      <td>0</td>\n",
       "      <td>0</td>\n",
       "      <td>0</td>\n",
       "      <td>0</td>\n",
       "      <td>0</td>\n",
       "      <td>0</td>\n",
       "      <td>0</td>\n",
       "      <td>0</td>\n",
       "    </tr>\n",
       "    <tr>\n",
       "      <th>4</th>\n",
       "      <td>0</td>\n",
       "      <td>0</td>\n",
       "      <td>0</td>\n",
       "      <td>0</td>\n",
       "      <td>0</td>\n",
       "      <td>0</td>\n",
       "      <td>0</td>\n",
       "      <td>0</td>\n",
       "      <td>0</td>\n",
       "      <td>0</td>\n",
       "      <td>...</td>\n",
       "      <td>0</td>\n",
       "      <td>0</td>\n",
       "      <td>0</td>\n",
       "      <td>0</td>\n",
       "      <td>0</td>\n",
       "      <td>0</td>\n",
       "      <td>0</td>\n",
       "      <td>0</td>\n",
       "      <td>0</td>\n",
       "      <td>0</td>\n",
       "    </tr>\n",
       "  </tbody>\n",
       "</table>\n",
       "<p>5 rows × 57977 columns</p>\n",
       "</div>"
      ],
      "text/plain": [
       "   aa  aaa  aahhhh  aai  aala  aamat  aamc  aamer  aand  aapi ...  últimas  \\\n",
       "0   0    0       0    0     0      0     0      0     0     0 ...        0   \n",
       "1   0    0       0    0     0      0     0      0     0     0 ...        0   \n",
       "2   0    0       0    0     0      0     0      0     0     0 ...        0   \n",
       "3   0    0       0    0     0      0     0      0     0     0 ...        0   \n",
       "4   0    0       0    0     0      0     0      0     0     0 ...        0   \n",
       "\n",
       "   último  últimos  única  únicamente  únicas  único  únicos  łask  ơn  \n",
       "0       0        0      0           0       0      0       0     0   0  \n",
       "1       0        0      0           0       0      0       0     0   0  \n",
       "2       0        0      0           0       0      0       0     0   0  \n",
       "3       0        0      0           0       0      0       0     0   0  \n",
       "4       0        0      0           0       0      0       0     0   0  \n",
       "\n",
       "[5 rows x 57977 columns]"
      ]
     },
     "execution_count": 42,
     "metadata": {},
     "output_type": "execute_result"
    }
   ],
   "source": [
    "tokens.head()"
   ]
  },
  {
   "cell_type": "code",
   "execution_count": 43,
   "metadata": {
    "collapsed": true
   },
   "outputs": [],
   "source": [
    "# that's... more like it?  The non-president stuff might have to go... but let's see what happens with, say, naive bayes or something.\n",
    "liltokens = tokens[(df[\"president\"] == \"Trump\") | (df[\"date\"] <= cutoff_date)]"
   ]
  },
  {
   "cell_type": "code",
   "execution_count": 44,
   "metadata": {
    "collapsed": true
   },
   "outputs": [],
   "source": [
    "labels = pd.Series(df[\"president\"])"
   ]
  },
  {
   "cell_type": "code",
   "execution_count": 45,
   "metadata": {
    "collapsed": true
   },
   "outputs": [],
   "source": [
    "lillabels = labels[(df[\"president\"] == \"Trump\") | (df[\"date\"] <= cutoff_date)]"
   ]
  },
  {
   "cell_type": "code",
   "execution_count": 46,
   "metadata": {
    "collapsed": false
   },
   "outputs": [
    {
     "ename": "TypeError",
     "evalue": "Expected sequence or array-like, got estimator       aa  aaa  aahhhh  aai  aala  aamat  aamc  aamer  aand  aapi ...  últimas  \\\n0      0    0       0    0     0      0     0      0     0     0 ...        0   \n1      0    0       0    0     0      0     0      0     0     0 ...        0   \n2      0    0       0    0     0      0     0      0     0     0 ...        0   \n3      0    0       0    0     0      0     0      0     0     0 ...        0   \n4      0    0       0    0     0      0     0      0     0     0 ...        0   \n5      0    0       0    0     0      0     0      0     0     0 ...        0   \n6      0    0       0    0     0      0     0      0     0     0 ...        0   \n7      0    0       0    0     0      0     0      0     0     0 ...        0   \n8      0    0       0    0     0      0     0      0     0     0 ...        0   \n9      0    0       0    0     0      0     0      0     0     0 ...        0   \n10     0    0       0    0     0      0     0      0     0     0 ...        0   \n11     0    0       0    0     0      0     0      0     0     0 ...        0   \n12     0    0       0    0     0      0     0      0     0     0 ...        0   \n13     0    0       0    0     0      0     0      0     0     0 ...        0   \n14     0    0       0    0     0      0     0      0     0     0 ...        0   \n15     0    0       0    0     0      0     0      0     0     0 ...        0   \n16     0    0       0    0     0      0     0      0     0     0 ...        0   \n17     0    0       0    0     0      0     0      0     0     0 ...        0   \n18     0    0       0    0     0      0     0      0     0     0 ...        0   \n19     0    0       0    0     0      0     0      0     0     0 ...        0   \n20     0    0       0    0     0      0     0      0     0     0 ...        0   \n21     0    0       0    0     0      0     0      0     0     0 ...        0   \n22     0    0       0    0     0      0     0      0     0     0 ...        0   \n23     0    0       0    0     0      0     0      0     0     0 ...        0   \n24     0    0       0    0     0      0     0      0     0     0 ...        0   \n25     0    0       0    0     0      0     0      0     0     0 ...        0   \n26     0    0       0    0     0      0     0      0     0     0 ...        0   \n27     0    0       0    0     0      0     0      0     0     0 ...        0   \n28     0    0       0    0     0      0     0      0     0     0 ...        0   \n29     0    0       0    0     0      0     0      0     0     0 ...        0   \n...   ..  ...     ...  ...   ...    ...   ...    ...   ...   ... ...      ...   \n4987   0    0       0    0     0      0     0      0     0     0 ...        0   \n4988   0    0       0    0     0      0     0      0     0     0 ...        0   \n4990   0    0       0    0     0      0     0      0     0     0 ...        0   \n4991   0    0       0    0     0      0     0      0     0     0 ...        0   \n4992   0    0       0    0     0      0     0      0     0     0 ...        0   \n4993   0    0       0    0     0      0     0      0     0     0 ...        0   \n4994   0    0       0    0     0      0     0      0     0     0 ...        0   \n4995   0    0       0    0     0      0     0      0     0     0 ...        0   \n4996   0    0       0    0     0      0     0      0     0     0 ...        0   \n4997   0    0       0    0     0      0     0      0     0     0 ...        0   \n4998   0    0       0    0     0      0     0      0     0     0 ...        0   \n4999   0    0       0    0     0      0     0      0     0     0 ...        0   \n5000   0    0       0    0     0      0     0      0     0     0 ...        0   \n5003   0    0       0    0     0      0     0      0     0     0 ...        0   \n5004   0    0       0    0     0      0     0      0     0     0 ...        0   \n5005   0    0       0    0     0      0     0      0     0     0 ...        0   \n5006   0    0       0    0     0      0     0      0     0     0 ...        0   \n5007   0    0       0    0     0      0     0      0     0     0 ...        0   \n5008   0    0       0    0     0      0     0      0     0     0 ...        0   \n5010   0    0       0    0     0      0     0      0     0     0 ...        0   \n5013   0    0       0    0     0      0     0      0     0     0 ...        0   \n5016   0    0       0    0     0      0     0      0     0     0 ...        0   \n5017   0    0       0    0     0      0     0      0     0     0 ...        0   \n5019   0    0       0    0     0      0     0      0     0     0 ...        0   \n5023   0    0       0    0     0      0     0      0     0     0 ...        0   \n5026   0    0       0    0     0      0     0      0     0     0 ...        0   \n5027   0    0       0    0     0      0     0      0     0     0 ...        0   \n5029   0    0       0    0     0      0     0      0     0     0 ...        0   \n5033   0    0       0    0     0      0     0      0     0     0 ...        0   \n5034   0    0       0    0     0      0     0      0     0     0 ...        0   \n\n      último  últimos  única  únicamente  únicas  único  únicos  łask  ơn  \n0          0        0      0           0       0      0       0     0   0  \n1          0        0      0           0       0      0       0     0   0  \n2          0        0      0           0       0      0       0     0   0  \n3          0        0      0           0       0      0       0     0   0  \n4          0        0      0           0       0      0       0     0   0  \n5          0        0      0           0       0      0       0     0   0  \n6          0        0      0           0       0      0       0     0   0  \n7          0        0      0           0       0      0       0     0   0  \n8          0        0      0           0       0      0       0     0   0  \n9          0        0      0           0       0      0       0     0   0  \n10         0        0      0           0       0      0       0     0   0  \n11         0        0      0           0       0      0       0     0   0  \n12         0        0      0           0       0      0       0     0   0  \n13         0        0      0           0       0      0       0     0   0  \n14         0        0      0           0       0      0       0     0   0  \n15         0        0      0           0       0      0       0     0   0  \n16         0        0      0           0       0      0       0     0   0  \n17         0        0      0           0       0      0       0     0   0  \n18         0        0      0           0       0      0       0     0   0  \n19         0        0      0           0       0      0       0     0   0  \n20         0        0      0           0       0      0       0     0   0  \n21         0        0      0           0       0      0       0     0   0  \n22         0        0      0           0       0      0       0     0   0  \n23         0        0      0           0       0      0       0     0   0  \n24         0        0      0           0       0      0       0     0   0  \n25         0        0      0           0       0      0       0     0   0  \n26         0        0      0           0       0      0       0     0   0  \n27         0        0      0           0       0      0       0     0   0  \n28         0        0      0           0       0      0       0     0   0  \n29         0        0      0           0       0      0       0     0   0  \n...      ...      ...    ...         ...     ...    ...     ...   ...  ..  \n4987       0        0      0           0       0      0       0     0   0  \n4988       0        0      0           0       0      0       0     0   0  \n4990       0        0      0           0       0      0       0     0   0  \n4991       0        0      0           0       0      0       0     0   0  \n4992       0        0      0           0       0      0       0     0   0  \n4993       0        0      0           0       0      0       0     0   0  \n4994       0        0      0           0       0      0       0     0   0  \n4995       0        0      0           0       0      0       0     0   0  \n4996       0        0      0           0       0      0       0     0   0  \n4997       0        0      0           0       0      0       0     0   0  \n4998       0        0      0           0       0      0       0     0   0  \n4999       0        0      0           0       0      0       0     0   0  \n5000       0        0      0           0       0      0       0     0   0  \n5003       0        0      0           0       0      0       0     0   0  \n5004       0        0      0           0       0      0       0     0   0  \n5005       0        0      0           0       0      0       0     0   0  \n5006       0        0      0           0       0      0       0     0   0  \n5007       0        0      0           0       0      0       0     0   0  \n5008       0        0      0           0       0      0       0     0   0  \n5010       0        0      0           0       0      0       0     0   0  \n5013       0        0      0           0       0      0       0     0   0  \n5016       0        0      0           0       0      0       0     0   0  \n5017       0        0      0           0       0      0       0     0   0  \n5019       0        0      0           0       0      0       0     0   0  \n5023       0        0      0           0       0      0       0     0   0  \n5026       0        0      0           0       0      0       0     0   0  \n5027       0        0      0           0       0      0       0     0   0  \n5029       0        0      0           0       0      0       0     0   0  \n5033       0        0      0           0       0      0       0     0   0  \n5034       0        0      0           0       0      0       0     0   0  \n\n[732 rows x 57977 columns]",
     "output_type": "error",
     "traceback": [
      "\u001b[0;31m---------------------------------------------------------------------------\u001b[0m",
      "\u001b[0;31mTypeError\u001b[0m                                 Traceback (most recent call last)",
      "\u001b[0;32m<ipython-input-46-dcadd063a219>\u001b[0m in \u001b[0;36m<module>\u001b[0;34m()\u001b[0m\n\u001b[1;32m      1\u001b[0m \u001b[0;32mfrom\u001b[0m \u001b[0msklearn\u001b[0m\u001b[0;34m.\u001b[0m\u001b[0mnaive_bayes\u001b[0m \u001b[0;32mimport\u001b[0m \u001b[0mBernoulliNB\u001b[0m\u001b[0;34m\u001b[0m\u001b[0m\n\u001b[1;32m      2\u001b[0m \u001b[0;32mfrom\u001b[0m \u001b[0msklearn\u001b[0m\u001b[0;34m.\u001b[0m\u001b[0mmodel_selection\u001b[0m \u001b[0;32mimport\u001b[0m \u001b[0mtrain_test_split\u001b[0m\u001b[0;34m\u001b[0m\u001b[0m\n\u001b[0;32m----> 3\u001b[0;31m \u001b[0mlil_x_train\u001b[0m\u001b[0;34m,\u001b[0m \u001b[0mlil_x_test\u001b[0m\u001b[0;34m,\u001b[0m \u001b[0mlil_y_train\u001b[0m\u001b[0;34m,\u001b[0m \u001b[0mlil_y_test\u001b[0m \u001b[0;34m=\u001b[0m \u001b[0mtrain_test_split\u001b[0m\u001b[0;34m(\u001b[0m\u001b[0mliltokens\u001b[0m\u001b[0;34m,\u001b[0m \u001b[0mlillabels\u001b[0m\u001b[0;34m,\u001b[0m \u001b[0mtest_size\u001b[0m\u001b[0;34m=\u001b[0m\u001b[0;36m0.2\u001b[0m\u001b[0;34m)\u001b[0m\u001b[0;34m\u001b[0m\u001b[0m\n\u001b[0m",
      "\u001b[0;32m/Users/pauliglot/anaconda/envs/py35/lib/python3.5/site-packages/sklearn/model_selection/_split.py\u001b[0m in \u001b[0;36mtrain_test_split\u001b[0;34m(*arrays, **options)\u001b[0m\n\u001b[1;32m   1687\u001b[0m         \u001b[0mtest_size\u001b[0m \u001b[0;34m=\u001b[0m \u001b[0;36m0.25\u001b[0m\u001b[0;34m\u001b[0m\u001b[0m\n\u001b[1;32m   1688\u001b[0m \u001b[0;34m\u001b[0m\u001b[0m\n\u001b[0;32m-> 1689\u001b[0;31m     \u001b[0marrays\u001b[0m \u001b[0;34m=\u001b[0m \u001b[0mindexable\u001b[0m\u001b[0;34m(\u001b[0m\u001b[0;34m*\u001b[0m\u001b[0marrays\u001b[0m\u001b[0;34m)\u001b[0m\u001b[0;34m\u001b[0m\u001b[0m\n\u001b[0m\u001b[1;32m   1690\u001b[0m \u001b[0;34m\u001b[0m\u001b[0m\n\u001b[1;32m   1691\u001b[0m     \u001b[0;32mif\u001b[0m \u001b[0mstratify\u001b[0m \u001b[0;32mis\u001b[0m \u001b[0;32mnot\u001b[0m \u001b[0;32mNone\u001b[0m\u001b[0;34m:\u001b[0m\u001b[0;34m\u001b[0m\u001b[0m\n",
      "\u001b[0;32m/Users/pauliglot/anaconda/envs/py35/lib/python3.5/site-packages/sklearn/utils/validation.py\u001b[0m in \u001b[0;36mindexable\u001b[0;34m(*iterables)\u001b[0m\n\u001b[1;32m    204\u001b[0m         \u001b[0;32melse\u001b[0m\u001b[0;34m:\u001b[0m\u001b[0;34m\u001b[0m\u001b[0m\n\u001b[1;32m    205\u001b[0m             \u001b[0mresult\u001b[0m\u001b[0;34m.\u001b[0m\u001b[0mappend\u001b[0m\u001b[0;34m(\u001b[0m\u001b[0mnp\u001b[0m\u001b[0;34m.\u001b[0m\u001b[0marray\u001b[0m\u001b[0;34m(\u001b[0m\u001b[0mX\u001b[0m\u001b[0;34m)\u001b[0m\u001b[0;34m)\u001b[0m\u001b[0;34m\u001b[0m\u001b[0m\n\u001b[0;32m--> 206\u001b[0;31m     \u001b[0mcheck_consistent_length\u001b[0m\u001b[0;34m(\u001b[0m\u001b[0;34m*\u001b[0m\u001b[0mresult\u001b[0m\u001b[0;34m)\u001b[0m\u001b[0;34m\u001b[0m\u001b[0m\n\u001b[0m\u001b[1;32m    207\u001b[0m     \u001b[0;32mreturn\u001b[0m \u001b[0mresult\u001b[0m\u001b[0;34m\u001b[0m\u001b[0m\n\u001b[1;32m    208\u001b[0m \u001b[0;34m\u001b[0m\u001b[0m\n",
      "\u001b[0;32m/Users/pauliglot/anaconda/envs/py35/lib/python3.5/site-packages/sklearn/utils/validation.py\u001b[0m in \u001b[0;36mcheck_consistent_length\u001b[0;34m(*arrays)\u001b[0m\n\u001b[1;32m    175\u001b[0m     \"\"\"\n\u001b[1;32m    176\u001b[0m \u001b[0;34m\u001b[0m\u001b[0m\n\u001b[0;32m--> 177\u001b[0;31m     \u001b[0mlengths\u001b[0m \u001b[0;34m=\u001b[0m \u001b[0;34m[\u001b[0m\u001b[0m_num_samples\u001b[0m\u001b[0;34m(\u001b[0m\u001b[0mX\u001b[0m\u001b[0;34m)\u001b[0m \u001b[0;32mfor\u001b[0m \u001b[0mX\u001b[0m \u001b[0;32min\u001b[0m \u001b[0marrays\u001b[0m \u001b[0;32mif\u001b[0m \u001b[0mX\u001b[0m \u001b[0;32mis\u001b[0m \u001b[0;32mnot\u001b[0m \u001b[0;32mNone\u001b[0m\u001b[0;34m]\u001b[0m\u001b[0;34m\u001b[0m\u001b[0m\n\u001b[0m\u001b[1;32m    178\u001b[0m     \u001b[0muniques\u001b[0m \u001b[0;34m=\u001b[0m \u001b[0mnp\u001b[0m\u001b[0;34m.\u001b[0m\u001b[0munique\u001b[0m\u001b[0;34m(\u001b[0m\u001b[0mlengths\u001b[0m\u001b[0;34m)\u001b[0m\u001b[0;34m\u001b[0m\u001b[0m\n\u001b[1;32m    179\u001b[0m     \u001b[0;32mif\u001b[0m \u001b[0mlen\u001b[0m\u001b[0;34m(\u001b[0m\u001b[0muniques\u001b[0m\u001b[0;34m)\u001b[0m \u001b[0;34m>\u001b[0m \u001b[0;36m1\u001b[0m\u001b[0;34m:\u001b[0m\u001b[0;34m\u001b[0m\u001b[0m\n",
      "\u001b[0;32m/Users/pauliglot/anaconda/envs/py35/lib/python3.5/site-packages/sklearn/utils/validation.py\u001b[0m in \u001b[0;36m<listcomp>\u001b[0;34m(.0)\u001b[0m\n\u001b[1;32m    175\u001b[0m     \"\"\"\n\u001b[1;32m    176\u001b[0m \u001b[0;34m\u001b[0m\u001b[0m\n\u001b[0;32m--> 177\u001b[0;31m     \u001b[0mlengths\u001b[0m \u001b[0;34m=\u001b[0m \u001b[0;34m[\u001b[0m\u001b[0m_num_samples\u001b[0m\u001b[0;34m(\u001b[0m\u001b[0mX\u001b[0m\u001b[0;34m)\u001b[0m \u001b[0;32mfor\u001b[0m \u001b[0mX\u001b[0m \u001b[0;32min\u001b[0m \u001b[0marrays\u001b[0m \u001b[0;32mif\u001b[0m \u001b[0mX\u001b[0m \u001b[0;32mis\u001b[0m \u001b[0;32mnot\u001b[0m \u001b[0;32mNone\u001b[0m\u001b[0;34m]\u001b[0m\u001b[0;34m\u001b[0m\u001b[0m\n\u001b[0m\u001b[1;32m    178\u001b[0m     \u001b[0muniques\u001b[0m \u001b[0;34m=\u001b[0m \u001b[0mnp\u001b[0m\u001b[0;34m.\u001b[0m\u001b[0munique\u001b[0m\u001b[0;34m(\u001b[0m\u001b[0mlengths\u001b[0m\u001b[0;34m)\u001b[0m\u001b[0;34m\u001b[0m\u001b[0m\n\u001b[1;32m    179\u001b[0m     \u001b[0;32mif\u001b[0m \u001b[0mlen\u001b[0m\u001b[0;34m(\u001b[0m\u001b[0muniques\u001b[0m\u001b[0;34m)\u001b[0m \u001b[0;34m>\u001b[0m \u001b[0;36m1\u001b[0m\u001b[0;34m:\u001b[0m\u001b[0;34m\u001b[0m\u001b[0m\n",
      "\u001b[0;32m/Users/pauliglot/anaconda/envs/py35/lib/python3.5/site-packages/sklearn/utils/validation.py\u001b[0m in \u001b[0;36m_num_samples\u001b[0;34m(x)\u001b[0m\n\u001b[1;32m    114\u001b[0m         \u001b[0;31m# Don't get num_samples from an ensembles length!\u001b[0m\u001b[0;34m\u001b[0m\u001b[0;34m\u001b[0m\u001b[0m\n\u001b[1;32m    115\u001b[0m         raise TypeError('Expected sequence or array-like, got '\n\u001b[0;32m--> 116\u001b[0;31m                         'estimator %s' % x)\n\u001b[0m\u001b[1;32m    117\u001b[0m     \u001b[0;32mif\u001b[0m \u001b[0;32mnot\u001b[0m \u001b[0mhasattr\u001b[0m\u001b[0;34m(\u001b[0m\u001b[0mx\u001b[0m\u001b[0;34m,\u001b[0m \u001b[0;34m'__len__'\u001b[0m\u001b[0;34m)\u001b[0m \u001b[0;32mand\u001b[0m \u001b[0;32mnot\u001b[0m \u001b[0mhasattr\u001b[0m\u001b[0;34m(\u001b[0m\u001b[0mx\u001b[0m\u001b[0;34m,\u001b[0m \u001b[0;34m'shape'\u001b[0m\u001b[0;34m)\u001b[0m\u001b[0;34m:\u001b[0m\u001b[0;34m\u001b[0m\u001b[0m\n\u001b[1;32m    118\u001b[0m         \u001b[0;32mif\u001b[0m \u001b[0mhasattr\u001b[0m\u001b[0;34m(\u001b[0m\u001b[0mx\u001b[0m\u001b[0;34m,\u001b[0m \u001b[0;34m'__array__'\u001b[0m\u001b[0;34m)\u001b[0m\u001b[0;34m:\u001b[0m\u001b[0;34m\u001b[0m\u001b[0m\n",
      "\u001b[0;31mTypeError\u001b[0m: Expected sequence or array-like, got estimator       aa  aaa  aahhhh  aai  aala  aamat  aamc  aamer  aand  aapi ...  últimas  \\\n0      0    0       0    0     0      0     0      0     0     0 ...        0   \n1      0    0       0    0     0      0     0      0     0     0 ...        0   \n2      0    0       0    0     0      0     0      0     0     0 ...        0   \n3      0    0       0    0     0      0     0      0     0     0 ...        0   \n4      0    0       0    0     0      0     0      0     0     0 ...        0   \n5      0    0       0    0     0      0     0      0     0     0 ...        0   \n6      0    0       0    0     0      0     0      0     0     0 ...        0   \n7      0    0       0    0     0      0     0      0     0     0 ...        0   \n8      0    0       0    0     0      0     0      0     0     0 ...        0   \n9      0    0       0    0     0      0     0      0     0     0 ...        0   \n10     0    0       0    0     0      0     0      0     0     0 ...        0   \n11     0    0       0    0     0      0     0      0     0     0 ...        0   \n12     0    0       0    0     0      0     0      0     0     0 ...        0   \n13     0    0       0    0     0      0     0      0     0     0 ...        0   \n14     0    0       0    0     0      0     0      0     0     0 ...        0   \n15     0    0       0    0     0      0     0      0     0     0 ...        0   \n16     0    0       0    0     0      0     0      0     0     0 ...        0   \n17     0    0       0    0     0      0     0      0     0     0 ...        0   \n18     0    0       0    0     0      0     0      0     0     0 ...        0   \n19     0    0       0    0     0      0     0      0     0     0 ...        0   \n20     0    0       0    0     0      0     0      0     0     0 ...        0   \n21     0    0       0    0     0      0     0      0     0     0 ...        0   \n22     0    0       0    0     0      0     0      0     0     0 ...        0   \n23     0    0       0    0     0      0     0      0     0     0 ...        0   \n24     0    0       0    0     0      0     0      0     0     0 ...        0   \n25     0    0       0    0     0      0     0      0     0     0 ...        0   \n26     0    0       0    0     0      0     0      0     0     0 ...        0   \n27     0    0       0    0     0      0     0      0     0     0 ...        0   \n28     0    0       0    0     0      0     0      0     0     0 ...        0   \n29     0    0       0    0     0      0     0      0     0     0 ...        0   \n...   ..  ...     ...  ...   ...    ...   ...    ...   ...   ... ...      ...   \n4987   0    0       0    0     0      0     0      0     0     0 ...        0   \n4988   0    0       0    0     0      0     0      0     0     0 ...        0   \n4990   0    0       0    0     0      0     0      0     0     0 ...        0   \n4991   0    0       0    0     0      0     0      0     0     0 ...        0   \n4992   0    0       0    0     0      0     0      0     0     0 ...        0   \n4993   0    0       0    0     0      0     0      0     0     0 ...        0   \n4994   0    0       0    0     0      0     0      0     0     0 ...        0   \n4995   0    0       0    0     0      0     0      0     0     0 ...        0   \n4996   0    0       0    0     0      0     0      0     0     0 ...        0   \n4997   0    0       0    0     0      0     0      0     0     0 ...        0   \n4998   0    0       0    0     0      0     0      0     0     0 ...        0   \n4999   0    0       0    0     0      0     0      0     0     0 ...        0   \n5000   0    0       0    0     0      0     0      0     0     0 ...        0   \n5003   0    0       0    0     0      0     0      0     0     0 ...        0   \n5004   0    0       0    0     0      0     0      0     0     0 ...        0   \n5005   0    0       0    0     0      0     0      0     0     0 ...        0   \n5006   0    0       0    0     0      0     0      0     0     0 ...        0   \n5007   0    0       0    0     0      0     0      0     0     0 ...        0   \n5008   0    0       0    0     0      0     0      0     0     0 ...        0   \n5010   0    0       0    0     0      0     0      0     0     0 ...        0   \n5013   0    0       0    0     0      0     0      0     0     0 ...        0   \n5016   0    0       0    0     0      0     0      0     0     0 ...        0   \n5017   0    0       0    0     0      0     0      0     0     0 ...        0   \n5019   0    0       0    0     0      0     0      0     0     0 ...        0   \n5023   0    0       0    0     0      0     0      0     0     0 ...        0   \n5026   0    0       0    0     0      0     0      0     0     0 ...        0   \n5027   0    0       0    0     0      0     0      0     0     0 ...        0   \n5029   0    0       0    0     0      0     0      0     0     0 ...        0   \n5033   0    0       0    0     0      0     0      0     0     0 ...        0   \n5034   0    0       0    0     0      0     0      0     0     0 ...        0   \n\n      último  últimos  única  únicamente  únicas  único  únicos  łask  ơn  \n0          0        0      0           0       0      0       0     0   0  \n1          0        0      0           0       0      0       0     0   0  \n2          0        0      0           0       0      0       0     0   0  \n3          0        0      0           0       0      0       0     0   0  \n4          0        0      0           0       0      0       0     0   0  \n5          0        0      0           0       0      0       0     0   0  \n6          0        0      0           0       0      0       0     0   0  \n7          0        0      0           0       0      0       0     0   0  \n8          0        0      0           0       0      0       0     0   0  \n9          0        0      0           0       0      0       0     0   0  \n10         0        0      0           0       0      0       0     0   0  \n11         0        0      0           0       0      0       0     0   0  \n12         0        0      0           0       0      0       0     0   0  \n13         0        0      0           0       0      0       0     0   0  \n14         0        0      0           0       0      0       0     0   0  \n15         0        0      0           0       0      0       0     0   0  \n16         0        0      0           0       0      0       0     0   0  \n17         0        0      0           0       0      0       0     0   0  \n18         0        0      0           0       0      0       0     0   0  \n19         0        0      0           0       0      0       0     0   0  \n20         0        0      0           0       0      0       0     0   0  \n21         0        0      0           0       0      0       0     0   0  \n22         0        0      0           0       0      0       0     0   0  \n23         0        0      0           0       0      0       0     0   0  \n24         0        0      0           0       0      0       0     0   0  \n25         0        0      0           0       0      0       0     0   0  \n26         0        0      0           0       0      0       0     0   0  \n27         0        0      0           0       0      0       0     0   0  \n28         0        0      0           0       0      0       0     0   0  \n29         0        0      0           0       0      0       0     0   0  \n...      ...      ...    ...         ...     ...    ...     ...   ...  ..  \n4987       0        0      0           0       0      0       0     0   0  \n4988       0        0      0           0       0      0       0     0   0  \n4990       0        0      0           0       0      0       0     0   0  \n4991       0        0      0           0       0      0       0     0   0  \n4992       0        0      0           0       0      0       0     0   0  \n4993       0        0      0           0       0      0       0     0   0  \n4994       0        0      0           0       0      0       0     0   0  \n4995       0        0      0           0       0      0       0     0   0  \n4996       0        0      0           0       0      0       0     0   0  \n4997       0        0      0           0       0      0       0     0   0  \n4998       0        0      0           0       0      0       0     0   0  \n4999       0        0      0           0       0      0       0     0   0  \n5000       0        0      0           0       0      0       0     0   0  \n5003       0        0      0           0       0      0       0     0   0  \n5004       0        0      0           0       0      0       0     0   0  \n5005       0        0      0           0       0      0       0     0   0  \n5006       0        0      0           0       0      0       0     0   0  \n5007       0        0      0           0       0      0       0     0   0  \n5008       0        0      0           0       0      0       0     0   0  \n5010       0        0      0           0       0      0       0     0   0  \n5013       0        0      0           0       0      0       0     0   0  \n5016       0        0      0           0       0      0       0     0   0  \n5017       0        0      0           0       0      0       0     0   0  \n5019       0        0      0           0       0      0       0     0   0  \n5023       0        0      0           0       0      0       0     0   0  \n5026       0        0      0           0       0      0       0     0   0  \n5027       0        0      0           0       0      0       0     0   0  \n5029       0        0      0           0       0      0       0     0   0  \n5033       0        0      0           0       0      0       0     0   0  \n5034       0        0      0           0       0      0       0     0   0  \n\n[732 rows x 57977 columns]"
     ]
    }
   ],
   "source": [
    "from sklearn.naive_bayes import BernoulliNB\n",
    "from sklearn.model_selection import train_test_split\n",
    "lil_x_train, lil_x_test, lil_y_train, lil_y_test = train_test_split(liltokens, lillabels, test_size=0.2)"
   ]
  },
  {
   "cell_type": "code",
   "execution_count": 47,
   "metadata": {
    "collapsed": false
   },
   "outputs": [
    {
     "ename": "KeyError",
     "evalue": "'fit'",
     "output_type": "error",
     "traceback": [
      "\u001b[0;31m---------------------------------------------------------------------------\u001b[0m",
      "\u001b[0;31mKeyError\u001b[0m                                  Traceback (most recent call last)",
      "\u001b[0;32m/Users/pauliglot/anaconda/envs/py35/lib/python3.5/site-packages/pandas/core/indexes/base.py\u001b[0m in \u001b[0;36mget_loc\u001b[0;34m(self, key, method, tolerance)\u001b[0m\n\u001b[1;32m   2441\u001b[0m             \u001b[0;32mtry\u001b[0m\u001b[0;34m:\u001b[0m\u001b[0;34m\u001b[0m\u001b[0m\n\u001b[0;32m-> 2442\u001b[0;31m                 \u001b[0;32mreturn\u001b[0m \u001b[0mself\u001b[0m\u001b[0;34m.\u001b[0m\u001b[0m_engine\u001b[0m\u001b[0;34m.\u001b[0m\u001b[0mget_loc\u001b[0m\u001b[0;34m(\u001b[0m\u001b[0mkey\u001b[0m\u001b[0;34m)\u001b[0m\u001b[0;34m\u001b[0m\u001b[0m\n\u001b[0m\u001b[1;32m   2443\u001b[0m             \u001b[0;32mexcept\u001b[0m \u001b[0mKeyError\u001b[0m\u001b[0;34m:\u001b[0m\u001b[0;34m\u001b[0m\u001b[0m\n",
      "\u001b[0;32mpandas/_libs/index.pyx\u001b[0m in \u001b[0;36mpandas._libs.index.IndexEngine.get_loc (pandas/_libs/index.c:5280)\u001b[0;34m()\u001b[0m\n",
      "\u001b[0;32mpandas/_libs/index.pyx\u001b[0m in \u001b[0;36mpandas._libs.index.IndexEngine.get_loc (pandas/_libs/index.c:5126)\u001b[0;34m()\u001b[0m\n",
      "\u001b[0;32mpandas/_libs/hashtable_class_helper.pxi\u001b[0m in \u001b[0;36mpandas._libs.hashtable.PyObjectHashTable.get_item (pandas/_libs/hashtable.c:20523)\u001b[0;34m()\u001b[0m\n",
      "\u001b[0;32mpandas/_libs/hashtable_class_helper.pxi\u001b[0m in \u001b[0;36mpandas._libs.hashtable.PyObjectHashTable.get_item (pandas/_libs/hashtable.c:20477)\u001b[0;34m()\u001b[0m\n",
      "\u001b[0;31mKeyError\u001b[0m: 'fit'",
      "\nDuring handling of the above exception, another exception occurred:\n",
      "\u001b[0;31mKeyError\u001b[0m                                  Traceback (most recent call last)",
      "\u001b[0;32m<ipython-input-47-0f2605afb4b9>\u001b[0m in \u001b[0;36m<module>\u001b[0;34m()\u001b[0m\n\u001b[1;32m      1\u001b[0m \u001b[0;31m# oh god, the infamous \"fit\" problem again?! https://stackoverflow.com/questions/39745807/typeerror-expected-sequence-or-array-like-got-estimator\u001b[0m\u001b[0;34m\u001b[0m\u001b[0;34m\u001b[0m\u001b[0m\n\u001b[0;32m----> 2\u001b[0;31m \u001b[0mdf\u001b[0m\u001b[0;34m[\u001b[0m\u001b[0;34m\"fit\"\u001b[0m\u001b[0;34m]\u001b[0m\u001b[0;34m.\u001b[0m\u001b[0mhead\u001b[0m\u001b[0;34m(\u001b[0m\u001b[0;34m)\u001b[0m\u001b[0;34m\u001b[0m\u001b[0m\n\u001b[0m",
      "\u001b[0;32m/Users/pauliglot/anaconda/envs/py35/lib/python3.5/site-packages/pandas/core/frame.py\u001b[0m in \u001b[0;36m__getitem__\u001b[0;34m(self, key)\u001b[0m\n\u001b[1;32m   1962\u001b[0m             \u001b[0;32mreturn\u001b[0m \u001b[0mself\u001b[0m\u001b[0;34m.\u001b[0m\u001b[0m_getitem_multilevel\u001b[0m\u001b[0;34m(\u001b[0m\u001b[0mkey\u001b[0m\u001b[0;34m)\u001b[0m\u001b[0;34m\u001b[0m\u001b[0m\n\u001b[1;32m   1963\u001b[0m         \u001b[0;32melse\u001b[0m\u001b[0;34m:\u001b[0m\u001b[0;34m\u001b[0m\u001b[0m\n\u001b[0;32m-> 1964\u001b[0;31m             \u001b[0;32mreturn\u001b[0m \u001b[0mself\u001b[0m\u001b[0;34m.\u001b[0m\u001b[0m_getitem_column\u001b[0m\u001b[0;34m(\u001b[0m\u001b[0mkey\u001b[0m\u001b[0;34m)\u001b[0m\u001b[0;34m\u001b[0m\u001b[0m\n\u001b[0m\u001b[1;32m   1965\u001b[0m \u001b[0;34m\u001b[0m\u001b[0m\n\u001b[1;32m   1966\u001b[0m     \u001b[0;32mdef\u001b[0m \u001b[0m_getitem_column\u001b[0m\u001b[0;34m(\u001b[0m\u001b[0mself\u001b[0m\u001b[0;34m,\u001b[0m \u001b[0mkey\u001b[0m\u001b[0;34m)\u001b[0m\u001b[0;34m:\u001b[0m\u001b[0;34m\u001b[0m\u001b[0m\n",
      "\u001b[0;32m/Users/pauliglot/anaconda/envs/py35/lib/python3.5/site-packages/pandas/core/frame.py\u001b[0m in \u001b[0;36m_getitem_column\u001b[0;34m(self, key)\u001b[0m\n\u001b[1;32m   1969\u001b[0m         \u001b[0;31m# get column\u001b[0m\u001b[0;34m\u001b[0m\u001b[0;34m\u001b[0m\u001b[0m\n\u001b[1;32m   1970\u001b[0m         \u001b[0;32mif\u001b[0m \u001b[0mself\u001b[0m\u001b[0;34m.\u001b[0m\u001b[0mcolumns\u001b[0m\u001b[0;34m.\u001b[0m\u001b[0mis_unique\u001b[0m\u001b[0;34m:\u001b[0m\u001b[0;34m\u001b[0m\u001b[0m\n\u001b[0;32m-> 1971\u001b[0;31m             \u001b[0;32mreturn\u001b[0m \u001b[0mself\u001b[0m\u001b[0;34m.\u001b[0m\u001b[0m_get_item_cache\u001b[0m\u001b[0;34m(\u001b[0m\u001b[0mkey\u001b[0m\u001b[0;34m)\u001b[0m\u001b[0;34m\u001b[0m\u001b[0m\n\u001b[0m\u001b[1;32m   1972\u001b[0m \u001b[0;34m\u001b[0m\u001b[0m\n\u001b[1;32m   1973\u001b[0m         \u001b[0;31m# duplicate columns & possible reduce dimensionality\u001b[0m\u001b[0;34m\u001b[0m\u001b[0;34m\u001b[0m\u001b[0m\n",
      "\u001b[0;32m/Users/pauliglot/anaconda/envs/py35/lib/python3.5/site-packages/pandas/core/generic.py\u001b[0m in \u001b[0;36m_get_item_cache\u001b[0;34m(self, item)\u001b[0m\n\u001b[1;32m   1643\u001b[0m         \u001b[0mres\u001b[0m \u001b[0;34m=\u001b[0m \u001b[0mcache\u001b[0m\u001b[0;34m.\u001b[0m\u001b[0mget\u001b[0m\u001b[0;34m(\u001b[0m\u001b[0mitem\u001b[0m\u001b[0;34m)\u001b[0m\u001b[0;34m\u001b[0m\u001b[0m\n\u001b[1;32m   1644\u001b[0m         \u001b[0;32mif\u001b[0m \u001b[0mres\u001b[0m \u001b[0;32mis\u001b[0m \u001b[0;32mNone\u001b[0m\u001b[0;34m:\u001b[0m\u001b[0;34m\u001b[0m\u001b[0m\n\u001b[0;32m-> 1645\u001b[0;31m             \u001b[0mvalues\u001b[0m \u001b[0;34m=\u001b[0m \u001b[0mself\u001b[0m\u001b[0;34m.\u001b[0m\u001b[0m_data\u001b[0m\u001b[0;34m.\u001b[0m\u001b[0mget\u001b[0m\u001b[0;34m(\u001b[0m\u001b[0mitem\u001b[0m\u001b[0;34m)\u001b[0m\u001b[0;34m\u001b[0m\u001b[0m\n\u001b[0m\u001b[1;32m   1646\u001b[0m             \u001b[0mres\u001b[0m \u001b[0;34m=\u001b[0m \u001b[0mself\u001b[0m\u001b[0;34m.\u001b[0m\u001b[0m_box_item_values\u001b[0m\u001b[0;34m(\u001b[0m\u001b[0mitem\u001b[0m\u001b[0;34m,\u001b[0m \u001b[0mvalues\u001b[0m\u001b[0;34m)\u001b[0m\u001b[0;34m\u001b[0m\u001b[0m\n\u001b[1;32m   1647\u001b[0m             \u001b[0mcache\u001b[0m\u001b[0;34m[\u001b[0m\u001b[0mitem\u001b[0m\u001b[0;34m]\u001b[0m \u001b[0;34m=\u001b[0m \u001b[0mres\u001b[0m\u001b[0;34m\u001b[0m\u001b[0m\n",
      "\u001b[0;32m/Users/pauliglot/anaconda/envs/py35/lib/python3.5/site-packages/pandas/core/internals.py\u001b[0m in \u001b[0;36mget\u001b[0;34m(self, item, fastpath)\u001b[0m\n\u001b[1;32m   3588\u001b[0m \u001b[0;34m\u001b[0m\u001b[0m\n\u001b[1;32m   3589\u001b[0m             \u001b[0;32mif\u001b[0m \u001b[0;32mnot\u001b[0m \u001b[0misnull\u001b[0m\u001b[0;34m(\u001b[0m\u001b[0mitem\u001b[0m\u001b[0;34m)\u001b[0m\u001b[0;34m:\u001b[0m\u001b[0;34m\u001b[0m\u001b[0m\n\u001b[0;32m-> 3590\u001b[0;31m                 \u001b[0mloc\u001b[0m \u001b[0;34m=\u001b[0m \u001b[0mself\u001b[0m\u001b[0;34m.\u001b[0m\u001b[0mitems\u001b[0m\u001b[0;34m.\u001b[0m\u001b[0mget_loc\u001b[0m\u001b[0;34m(\u001b[0m\u001b[0mitem\u001b[0m\u001b[0;34m)\u001b[0m\u001b[0;34m\u001b[0m\u001b[0m\n\u001b[0m\u001b[1;32m   3591\u001b[0m             \u001b[0;32melse\u001b[0m\u001b[0;34m:\u001b[0m\u001b[0;34m\u001b[0m\u001b[0m\n\u001b[1;32m   3592\u001b[0m                 \u001b[0mindexer\u001b[0m \u001b[0;34m=\u001b[0m \u001b[0mnp\u001b[0m\u001b[0;34m.\u001b[0m\u001b[0marange\u001b[0m\u001b[0;34m(\u001b[0m\u001b[0mlen\u001b[0m\u001b[0;34m(\u001b[0m\u001b[0mself\u001b[0m\u001b[0;34m.\u001b[0m\u001b[0mitems\u001b[0m\u001b[0;34m)\u001b[0m\u001b[0;34m)\u001b[0m\u001b[0;34m[\u001b[0m\u001b[0misnull\u001b[0m\u001b[0;34m(\u001b[0m\u001b[0mself\u001b[0m\u001b[0;34m.\u001b[0m\u001b[0mitems\u001b[0m\u001b[0;34m)\u001b[0m\u001b[0;34m]\u001b[0m\u001b[0;34m\u001b[0m\u001b[0m\n",
      "\u001b[0;32m/Users/pauliglot/anaconda/envs/py35/lib/python3.5/site-packages/pandas/core/indexes/base.py\u001b[0m in \u001b[0;36mget_loc\u001b[0;34m(self, key, method, tolerance)\u001b[0m\n\u001b[1;32m   2442\u001b[0m                 \u001b[0;32mreturn\u001b[0m \u001b[0mself\u001b[0m\u001b[0;34m.\u001b[0m\u001b[0m_engine\u001b[0m\u001b[0;34m.\u001b[0m\u001b[0mget_loc\u001b[0m\u001b[0;34m(\u001b[0m\u001b[0mkey\u001b[0m\u001b[0;34m)\u001b[0m\u001b[0;34m\u001b[0m\u001b[0m\n\u001b[1;32m   2443\u001b[0m             \u001b[0;32mexcept\u001b[0m \u001b[0mKeyError\u001b[0m\u001b[0;34m:\u001b[0m\u001b[0;34m\u001b[0m\u001b[0m\n\u001b[0;32m-> 2444\u001b[0;31m                 \u001b[0;32mreturn\u001b[0m \u001b[0mself\u001b[0m\u001b[0;34m.\u001b[0m\u001b[0m_engine\u001b[0m\u001b[0;34m.\u001b[0m\u001b[0mget_loc\u001b[0m\u001b[0;34m(\u001b[0m\u001b[0mself\u001b[0m\u001b[0;34m.\u001b[0m\u001b[0m_maybe_cast_indexer\u001b[0m\u001b[0;34m(\u001b[0m\u001b[0mkey\u001b[0m\u001b[0;34m)\u001b[0m\u001b[0;34m)\u001b[0m\u001b[0;34m\u001b[0m\u001b[0m\n\u001b[0m\u001b[1;32m   2445\u001b[0m \u001b[0;34m\u001b[0m\u001b[0m\n\u001b[1;32m   2446\u001b[0m         \u001b[0mindexer\u001b[0m \u001b[0;34m=\u001b[0m \u001b[0mself\u001b[0m\u001b[0;34m.\u001b[0m\u001b[0mget_indexer\u001b[0m\u001b[0;34m(\u001b[0m\u001b[0;34m[\u001b[0m\u001b[0mkey\u001b[0m\u001b[0;34m]\u001b[0m\u001b[0;34m,\u001b[0m \u001b[0mmethod\u001b[0m\u001b[0;34m=\u001b[0m\u001b[0mmethod\u001b[0m\u001b[0;34m,\u001b[0m \u001b[0mtolerance\u001b[0m\u001b[0;34m=\u001b[0m\u001b[0mtolerance\u001b[0m\u001b[0;34m)\u001b[0m\u001b[0;34m\u001b[0m\u001b[0m\n",
      "\u001b[0;32mpandas/_libs/index.pyx\u001b[0m in \u001b[0;36mpandas._libs.index.IndexEngine.get_loc (pandas/_libs/index.c:5280)\u001b[0;34m()\u001b[0m\n",
      "\u001b[0;32mpandas/_libs/index.pyx\u001b[0m in \u001b[0;36mpandas._libs.index.IndexEngine.get_loc (pandas/_libs/index.c:5126)\u001b[0;34m()\u001b[0m\n",
      "\u001b[0;32mpandas/_libs/hashtable_class_helper.pxi\u001b[0m in \u001b[0;36mpandas._libs.hashtable.PyObjectHashTable.get_item (pandas/_libs/hashtable.c:20523)\u001b[0;34m()\u001b[0m\n",
      "\u001b[0;32mpandas/_libs/hashtable_class_helper.pxi\u001b[0m in \u001b[0;36mpandas._libs.hashtable.PyObjectHashTable.get_item (pandas/_libs/hashtable.c:20477)\u001b[0;34m()\u001b[0m\n",
      "\u001b[0;31mKeyError\u001b[0m: 'fit'"
     ]
    }
   ],
   "source": [
    "# oh god, the infamous \"fit\" problem again?! https://stackoverflow.com/questions/39745807/typeerror-expected-sequence-or-array-like-got-estimator\n",
    "df[\"fit\"].head()"
   ]
  },
  {
   "cell_type": "code",
   "execution_count": 48,
   "metadata": {
    "collapsed": false
   },
   "outputs": [
    {
     "name": "stderr",
     "output_type": "stream",
     "text": [
      "/Users/pauliglot/anaconda/envs/py35/lib/python3.5/site-packages/pandas/core/frame.py:2746: SettingWithCopyWarning: \n",
      "A value is trying to be set on a copy of a slice from a DataFrame\n",
      "\n",
      "See the caveats in the documentation: http://pandas.pydata.org/pandas-docs/stable/indexing.html#indexing-view-versus-copy\n",
      "  **kwargs)\n"
     ]
    }
   ],
   "source": [
    "# well fuck it.  I don't know what the offending names are, so I'm going to just rename all of them.\n",
    "tokens.rename(columns=lambda x: \"x_\" + x, inplace=True)\n",
    "liltokens.rename(columns=lambda x: \"x_\" + x, inplace=True)"
   ]
  },
  {
   "cell_type": "code",
   "execution_count": 49,
   "metadata": {
    "collapsed": false
   },
   "outputs": [
    {
     "data": {
      "text/html": [
       "<div>\n",
       "<style>\n",
       "    .dataframe thead tr:only-child th {\n",
       "        text-align: right;\n",
       "    }\n",
       "\n",
       "    .dataframe thead th {\n",
       "        text-align: left;\n",
       "    }\n",
       "\n",
       "    .dataframe tbody tr th {\n",
       "        vertical-align: top;\n",
       "    }\n",
       "</style>\n",
       "<table border=\"1\" class=\"dataframe\">\n",
       "  <thead>\n",
       "    <tr style=\"text-align: right;\">\n",
       "      <th></th>\n",
       "      <th>x_aa</th>\n",
       "      <th>x_aaa</th>\n",
       "      <th>x_aahhhh</th>\n",
       "      <th>x_aai</th>\n",
       "      <th>x_aala</th>\n",
       "      <th>x_aamat</th>\n",
       "      <th>x_aamc</th>\n",
       "      <th>x_aamer</th>\n",
       "      <th>x_aand</th>\n",
       "      <th>x_aapi</th>\n",
       "      <th>...</th>\n",
       "      <th>x_últimas</th>\n",
       "      <th>x_último</th>\n",
       "      <th>x_últimos</th>\n",
       "      <th>x_única</th>\n",
       "      <th>x_únicamente</th>\n",
       "      <th>x_únicas</th>\n",
       "      <th>x_único</th>\n",
       "      <th>x_únicos</th>\n",
       "      <th>x_łask</th>\n",
       "      <th>x_ơn</th>\n",
       "    </tr>\n",
       "  </thead>\n",
       "  <tbody>\n",
       "    <tr>\n",
       "      <th>0</th>\n",
       "      <td>0</td>\n",
       "      <td>0</td>\n",
       "      <td>0</td>\n",
       "      <td>0</td>\n",
       "      <td>0</td>\n",
       "      <td>0</td>\n",
       "      <td>0</td>\n",
       "      <td>0</td>\n",
       "      <td>0</td>\n",
       "      <td>0</td>\n",
       "      <td>...</td>\n",
       "      <td>0</td>\n",
       "      <td>0</td>\n",
       "      <td>0</td>\n",
       "      <td>0</td>\n",
       "      <td>0</td>\n",
       "      <td>0</td>\n",
       "      <td>0</td>\n",
       "      <td>0</td>\n",
       "      <td>0</td>\n",
       "      <td>0</td>\n",
       "    </tr>\n",
       "    <tr>\n",
       "      <th>1</th>\n",
       "      <td>0</td>\n",
       "      <td>0</td>\n",
       "      <td>0</td>\n",
       "      <td>0</td>\n",
       "      <td>0</td>\n",
       "      <td>0</td>\n",
       "      <td>0</td>\n",
       "      <td>0</td>\n",
       "      <td>0</td>\n",
       "      <td>0</td>\n",
       "      <td>...</td>\n",
       "      <td>0</td>\n",
       "      <td>0</td>\n",
       "      <td>0</td>\n",
       "      <td>0</td>\n",
       "      <td>0</td>\n",
       "      <td>0</td>\n",
       "      <td>0</td>\n",
       "      <td>0</td>\n",
       "      <td>0</td>\n",
       "      <td>0</td>\n",
       "    </tr>\n",
       "    <tr>\n",
       "      <th>2</th>\n",
       "      <td>0</td>\n",
       "      <td>0</td>\n",
       "      <td>0</td>\n",
       "      <td>0</td>\n",
       "      <td>0</td>\n",
       "      <td>0</td>\n",
       "      <td>0</td>\n",
       "      <td>0</td>\n",
       "      <td>0</td>\n",
       "      <td>0</td>\n",
       "      <td>...</td>\n",
       "      <td>0</td>\n",
       "      <td>0</td>\n",
       "      <td>0</td>\n",
       "      <td>0</td>\n",
       "      <td>0</td>\n",
       "      <td>0</td>\n",
       "      <td>0</td>\n",
       "      <td>0</td>\n",
       "      <td>0</td>\n",
       "      <td>0</td>\n",
       "    </tr>\n",
       "    <tr>\n",
       "      <th>3</th>\n",
       "      <td>0</td>\n",
       "      <td>0</td>\n",
       "      <td>0</td>\n",
       "      <td>0</td>\n",
       "      <td>0</td>\n",
       "      <td>0</td>\n",
       "      <td>0</td>\n",
       "      <td>0</td>\n",
       "      <td>0</td>\n",
       "      <td>0</td>\n",
       "      <td>...</td>\n",
       "      <td>0</td>\n",
       "      <td>0</td>\n",
       "      <td>0</td>\n",
       "      <td>0</td>\n",
       "      <td>0</td>\n",
       "      <td>0</td>\n",
       "      <td>0</td>\n",
       "      <td>0</td>\n",
       "      <td>0</td>\n",
       "      <td>0</td>\n",
       "    </tr>\n",
       "    <tr>\n",
       "      <th>4</th>\n",
       "      <td>0</td>\n",
       "      <td>0</td>\n",
       "      <td>0</td>\n",
       "      <td>0</td>\n",
       "      <td>0</td>\n",
       "      <td>0</td>\n",
       "      <td>0</td>\n",
       "      <td>0</td>\n",
       "      <td>0</td>\n",
       "      <td>0</td>\n",
       "      <td>...</td>\n",
       "      <td>0</td>\n",
       "      <td>0</td>\n",
       "      <td>0</td>\n",
       "      <td>0</td>\n",
       "      <td>0</td>\n",
       "      <td>0</td>\n",
       "      <td>0</td>\n",
       "      <td>0</td>\n",
       "      <td>0</td>\n",
       "      <td>0</td>\n",
       "    </tr>\n",
       "  </tbody>\n",
       "</table>\n",
       "<p>5 rows × 57977 columns</p>\n",
       "</div>"
      ],
      "text/plain": [
       "   x_aa  x_aaa  x_aahhhh  x_aai  x_aala  x_aamat  x_aamc  x_aamer  x_aand  \\\n",
       "0     0      0         0      0       0        0       0        0       0   \n",
       "1     0      0         0      0       0        0       0        0       0   \n",
       "2     0      0         0      0       0        0       0        0       0   \n",
       "3     0      0         0      0       0        0       0        0       0   \n",
       "4     0      0         0      0       0        0       0        0       0   \n",
       "\n",
       "   x_aapi  ...   x_últimas  x_último  x_últimos  x_única  x_únicamente  \\\n",
       "0       0  ...           0         0          0        0             0   \n",
       "1       0  ...           0         0          0        0             0   \n",
       "2       0  ...           0         0          0        0             0   \n",
       "3       0  ...           0         0          0        0             0   \n",
       "4       0  ...           0         0          0        0             0   \n",
       "\n",
       "   x_únicas  x_único  x_únicos  x_łask  x_ơn  \n",
       "0         0        0         0       0     0  \n",
       "1         0        0         0       0     0  \n",
       "2         0        0         0       0     0  \n",
       "3         0        0         0       0     0  \n",
       "4         0        0         0       0     0  \n",
       "\n",
       "[5 rows x 57977 columns]"
      ]
     },
     "execution_count": 49,
     "metadata": {},
     "output_type": "execute_result"
    }
   ],
   "source": [
    "liltokens.head()"
   ]
  },
  {
   "cell_type": "code",
   "execution_count": 50,
   "metadata": {
    "collapsed": false
   },
   "outputs": [
    {
     "data": {
      "text/html": [
       "<div>\n",
       "<style>\n",
       "    .dataframe thead tr:only-child th {\n",
       "        text-align: right;\n",
       "    }\n",
       "\n",
       "    .dataframe thead th {\n",
       "        text-align: left;\n",
       "    }\n",
       "\n",
       "    .dataframe tbody tr th {\n",
       "        vertical-align: top;\n",
       "    }\n",
       "</style>\n",
       "<table border=\"1\" class=\"dataframe\">\n",
       "  <thead>\n",
       "    <tr style=\"text-align: right;\">\n",
       "      <th></th>\n",
       "      <th>x_aa</th>\n",
       "      <th>x_aaa</th>\n",
       "      <th>x_aahhhh</th>\n",
       "      <th>x_aai</th>\n",
       "      <th>x_aala</th>\n",
       "      <th>x_aamat</th>\n",
       "      <th>x_aamc</th>\n",
       "      <th>x_aamer</th>\n",
       "      <th>x_aand</th>\n",
       "      <th>x_aapi</th>\n",
       "      <th>...</th>\n",
       "      <th>x_últimas</th>\n",
       "      <th>x_último</th>\n",
       "      <th>x_últimos</th>\n",
       "      <th>x_única</th>\n",
       "      <th>x_únicamente</th>\n",
       "      <th>x_únicas</th>\n",
       "      <th>x_único</th>\n",
       "      <th>x_únicos</th>\n",
       "      <th>x_łask</th>\n",
       "      <th>x_ơn</th>\n",
       "    </tr>\n",
       "  </thead>\n",
       "  <tbody>\n",
       "    <tr>\n",
       "      <th>0</th>\n",
       "      <td>0</td>\n",
       "      <td>0</td>\n",
       "      <td>0</td>\n",
       "      <td>0</td>\n",
       "      <td>0</td>\n",
       "      <td>0</td>\n",
       "      <td>0</td>\n",
       "      <td>0</td>\n",
       "      <td>0</td>\n",
       "      <td>0</td>\n",
       "      <td>...</td>\n",
       "      <td>0</td>\n",
       "      <td>0</td>\n",
       "      <td>0</td>\n",
       "      <td>0</td>\n",
       "      <td>0</td>\n",
       "      <td>0</td>\n",
       "      <td>0</td>\n",
       "      <td>0</td>\n",
       "      <td>0</td>\n",
       "      <td>0</td>\n",
       "    </tr>\n",
       "    <tr>\n",
       "      <th>1</th>\n",
       "      <td>0</td>\n",
       "      <td>0</td>\n",
       "      <td>0</td>\n",
       "      <td>0</td>\n",
       "      <td>0</td>\n",
       "      <td>0</td>\n",
       "      <td>0</td>\n",
       "      <td>0</td>\n",
       "      <td>0</td>\n",
       "      <td>0</td>\n",
       "      <td>...</td>\n",
       "      <td>0</td>\n",
       "      <td>0</td>\n",
       "      <td>0</td>\n",
       "      <td>0</td>\n",
       "      <td>0</td>\n",
       "      <td>0</td>\n",
       "      <td>0</td>\n",
       "      <td>0</td>\n",
       "      <td>0</td>\n",
       "      <td>0</td>\n",
       "    </tr>\n",
       "    <tr>\n",
       "      <th>2</th>\n",
       "      <td>0</td>\n",
       "      <td>0</td>\n",
       "      <td>0</td>\n",
       "      <td>0</td>\n",
       "      <td>0</td>\n",
       "      <td>0</td>\n",
       "      <td>0</td>\n",
       "      <td>0</td>\n",
       "      <td>0</td>\n",
       "      <td>0</td>\n",
       "      <td>...</td>\n",
       "      <td>0</td>\n",
       "      <td>0</td>\n",
       "      <td>0</td>\n",
       "      <td>0</td>\n",
       "      <td>0</td>\n",
       "      <td>0</td>\n",
       "      <td>0</td>\n",
       "      <td>0</td>\n",
       "      <td>0</td>\n",
       "      <td>0</td>\n",
       "    </tr>\n",
       "    <tr>\n",
       "      <th>3</th>\n",
       "      <td>0</td>\n",
       "      <td>0</td>\n",
       "      <td>0</td>\n",
       "      <td>0</td>\n",
       "      <td>0</td>\n",
       "      <td>0</td>\n",
       "      <td>0</td>\n",
       "      <td>0</td>\n",
       "      <td>0</td>\n",
       "      <td>0</td>\n",
       "      <td>...</td>\n",
       "      <td>0</td>\n",
       "      <td>0</td>\n",
       "      <td>0</td>\n",
       "      <td>0</td>\n",
       "      <td>0</td>\n",
       "      <td>0</td>\n",
       "      <td>0</td>\n",
       "      <td>0</td>\n",
       "      <td>0</td>\n",
       "      <td>0</td>\n",
       "    </tr>\n",
       "    <tr>\n",
       "      <th>4</th>\n",
       "      <td>0</td>\n",
       "      <td>0</td>\n",
       "      <td>0</td>\n",
       "      <td>0</td>\n",
       "      <td>0</td>\n",
       "      <td>0</td>\n",
       "      <td>0</td>\n",
       "      <td>0</td>\n",
       "      <td>0</td>\n",
       "      <td>0</td>\n",
       "      <td>...</td>\n",
       "      <td>0</td>\n",
       "      <td>0</td>\n",
       "      <td>0</td>\n",
       "      <td>0</td>\n",
       "      <td>0</td>\n",
       "      <td>0</td>\n",
       "      <td>0</td>\n",
       "      <td>0</td>\n",
       "      <td>0</td>\n",
       "      <td>0</td>\n",
       "    </tr>\n",
       "  </tbody>\n",
       "</table>\n",
       "<p>5 rows × 57977 columns</p>\n",
       "</div>"
      ],
      "text/plain": [
       "   x_aa  x_aaa  x_aahhhh  x_aai  x_aala  x_aamat  x_aamc  x_aamer  x_aand  \\\n",
       "0     0      0         0      0       0        0       0        0       0   \n",
       "1     0      0         0      0       0        0       0        0       0   \n",
       "2     0      0         0      0       0        0       0        0       0   \n",
       "3     0      0         0      0       0        0       0        0       0   \n",
       "4     0      0         0      0       0        0       0        0       0   \n",
       "\n",
       "   x_aapi  ...   x_últimas  x_último  x_últimos  x_única  x_únicamente  \\\n",
       "0       0  ...           0         0          0        0             0   \n",
       "1       0  ...           0         0          0        0             0   \n",
       "2       0  ...           0         0          0        0             0   \n",
       "3       0  ...           0         0          0        0             0   \n",
       "4       0  ...           0         0          0        0             0   \n",
       "\n",
       "   x_únicas  x_único  x_únicos  x_łask  x_ơn  \n",
       "0         0        0         0       0     0  \n",
       "1         0        0         0       0     0  \n",
       "2         0        0         0       0     0  \n",
       "3         0        0         0       0     0  \n",
       "4         0        0         0       0     0  \n",
       "\n",
       "[5 rows x 57977 columns]"
      ]
     },
     "execution_count": 50,
     "metadata": {},
     "output_type": "execute_result"
    }
   ],
   "source": [
    "tokens.head()"
   ]
  },
  {
   "cell_type": "code",
   "execution_count": 51,
   "metadata": {
    "collapsed": true
   },
   "outputs": [],
   "source": [
    "# now will you play nice?\n",
    "lil_x_train, lil_x_test, lil_y_train, lil_y_test = train_test_split(liltokens, lillabels, test_size=0.2)"
   ]
  },
  {
   "cell_type": "code",
   "execution_count": 52,
   "metadata": {
    "collapsed": false
   },
   "outputs": [
    {
     "data": {
      "text/plain": [
       "0       0\n",
       "1       0\n",
       "2       0\n",
       "3       0\n",
       "4       0\n",
       "5       0\n",
       "6       0\n",
       "7       0\n",
       "8       0\n",
       "9       0\n",
       "10      0\n",
       "11      0\n",
       "12      0\n",
       "13      0\n",
       "14      0\n",
       "15      0\n",
       "16      0\n",
       "17      0\n",
       "18      0\n",
       "19      0\n",
       "20      0\n",
       "21      0\n",
       "22      0\n",
       "23      0\n",
       "24      0\n",
       "25      0\n",
       "26      0\n",
       "27      0\n",
       "28      0\n",
       "29      0\n",
       "       ..\n",
       "5006    0\n",
       "5007    0\n",
       "5008    0\n",
       "5009    1\n",
       "5010    0\n",
       "5011    0\n",
       "5012    0\n",
       "5013    0\n",
       "5014    0\n",
       "5015    0\n",
       "5016    0\n",
       "5017    0\n",
       "5018    0\n",
       "5019    0\n",
       "5020    0\n",
       "5021    0\n",
       "5022    0\n",
       "5023    0\n",
       "5024    0\n",
       "5025    0\n",
       "5026    0\n",
       "5027    0\n",
       "5028    0\n",
       "5029    0\n",
       "5030    0\n",
       "5031    0\n",
       "5032    0\n",
       "5033    0\n",
       "5034    0\n",
       "5035    0\n",
       "Name: x_fit, Length: 5036, dtype: int64"
      ]
     },
     "execution_count": 52,
     "metadata": {},
     "output_type": "execute_result"
    }
   ],
   "source": [
    "# thank you. \n",
    "# incidentally\n",
    "tokens[\"x_fit\"]"
   ]
  },
  {
   "cell_type": "code",
   "execution_count": 53,
   "metadata": {
    "collapsed": false
   },
   "outputs": [
    {
     "data": {
      "text/plain": [
       "pandas.core.frame.DataFrame"
      ]
     },
     "execution_count": 53,
     "metadata": {},
     "output_type": "execute_result"
    }
   ],
   "source": [
    "type(tokens)"
   ]
  },
  {
   "cell_type": "code",
   "execution_count": 54,
   "metadata": {
    "collapsed": false
   },
   "outputs": [
    {
     "data": {
      "text/plain": [
       "type"
      ]
     },
     "execution_count": 54,
     "metadata": {},
     "output_type": "execute_result"
    }
   ],
   "source": [
    "type(type(tokens))"
   ]
  },
  {
   "cell_type": "code",
   "execution_count": 59,
   "metadata": {
    "collapsed": false
   },
   "outputs": [
    {
     "data": {
      "text/plain": [
       "True"
      ]
     },
     "execution_count": 59,
     "metadata": {},
     "output_type": "execute_result"
    }
   ],
   "source": [
    "type(tokens).__name__ == 'DataFrame'"
   ]
  },
  {
   "cell_type": "code",
   "execution_count": 60,
   "metadata": {
    "collapsed": false
   },
   "outputs": [
    {
     "data": {
      "text/plain": [
       "False"
      ]
     },
     "execution_count": 60,
     "metadata": {},
     "output_type": "execute_result"
    }
   ],
   "source": [
    "callable(tokens.x_fit)"
   ]
  },
  {
   "cell_type": "code",
   "execution_count": 61,
   "metadata": {
    "collapsed": true
   },
   "outputs": [],
   "source": [
    "# I want to track this down, it looks like it should be ok.\n",
    "def isfit(x):\n",
    "    \"\"\"Return number of samples in array-like x.\"\"\"\n",
    "    if hasattr(x, 'x_fit') and callable(x.x_fit):\n",
    "        print(\"yes\")\n",
    "    else:\n",
    "        print(\"no\")"
   ]
  },
  {
   "cell_type": "code",
   "execution_count": 62,
   "metadata": {
    "collapsed": false
   },
   "outputs": [
    {
     "name": "stdout",
     "output_type": "stream",
     "text": [
      "no\n"
     ]
    }
   ],
   "source": [
    "isfit(tokens)"
   ]
  },
  {
   "cell_type": "code",
   "execution_count": 63,
   "metadata": {
    "collapsed": false
   },
   "outputs": [
    {
     "data": {
      "text/plain": [
       "BernoulliNB(alpha=1.0, binarize=0.0, class_prior=None, fit_prior=True)"
      ]
     },
     "execution_count": 63,
     "metadata": {},
     "output_type": "execute_result"
    }
   ],
   "source": [
    "# Ok, it looks like I just don't have the newest code.  whev, this is yak-shaving.\n",
    "naive_presidents = BernoulliNB()\n",
    "naive_presidents.fit(lil_x_train, lil_y_train)"
   ]
  },
  {
   "cell_type": "code",
   "execution_count": 64,
   "metadata": {
    "collapsed": true
   },
   "outputs": [],
   "source": [
    "naive_train_preds = naive_presidents.predict_proba(lil_x_train)"
   ]
  },
  {
   "cell_type": "code",
   "execution_count": 67,
   "metadata": {
    "collapsed": false
   },
   "outputs": [
    {
     "ename": "ValueError",
     "evalue": "Data is not binary and pos_label is not specified",
     "output_type": "error",
     "traceback": [
      "\u001b[0;31m---------------------------------------------------------------------------\u001b[0m",
      "\u001b[0;31mValueError\u001b[0m                                Traceback (most recent call last)",
      "\u001b[0;32m<ipython-input-67-18faffb6047a>\u001b[0m in \u001b[0;36m<module>\u001b[0;34m()\u001b[0m\n\u001b[1;32m      1\u001b[0m \u001b[0;32mfrom\u001b[0m \u001b[0msklearn\u001b[0m\u001b[0;34m.\u001b[0m\u001b[0mmetrics\u001b[0m \u001b[0;32mimport\u001b[0m \u001b[0mroc_curve\u001b[0m\u001b[0;34m,\u001b[0m \u001b[0mauc\u001b[0m\u001b[0;34m\u001b[0m\u001b[0m\n\u001b[0;32m----> 2\u001b[0;31m \u001b[0mfalse_positive_rate\u001b[0m\u001b[0;34m,\u001b[0m \u001b[0mtrue_positive_rate\u001b[0m\u001b[0;34m,\u001b[0m \u001b[0mthresholds\u001b[0m \u001b[0;34m=\u001b[0m \u001b[0mroc_curve\u001b[0m\u001b[0;34m(\u001b[0m\u001b[0mlil_y_train\u001b[0m\u001b[0;34m,\u001b[0m \u001b[0mnaive_train_preds\u001b[0m\u001b[0;34m[\u001b[0m\u001b[0;34m:\u001b[0m\u001b[0;34m,\u001b[0m\u001b[0;36m1\u001b[0m\u001b[0;34m]\u001b[0m\u001b[0;34m)\u001b[0m\u001b[0;34m\u001b[0m\u001b[0m\n\u001b[0m\u001b[1;32m      3\u001b[0m \u001b[0mroc_auc\u001b[0m \u001b[0;34m=\u001b[0m \u001b[0mauc\u001b[0m\u001b[0;34m(\u001b[0m\u001b[0mfalse_positive_rate\u001b[0m\u001b[0;34m,\u001b[0m \u001b[0mtrue_positive_rate\u001b[0m\u001b[0;34m)\u001b[0m\u001b[0;34m\u001b[0m\u001b[0m\n",
      "\u001b[0;32m/Users/pauliglot/anaconda/envs/py35/lib/python3.5/site-packages/sklearn/metrics/ranking.py\u001b[0m in \u001b[0;36mroc_curve\u001b[0;34m(y_true, y_score, pos_label, sample_weight, drop_intermediate)\u001b[0m\n\u001b[1;32m    503\u001b[0m     \"\"\"\n\u001b[1;32m    504\u001b[0m     fps, tps, thresholds = _binary_clf_curve(\n\u001b[0;32m--> 505\u001b[0;31m         y_true, y_score, pos_label=pos_label, sample_weight=sample_weight)\n\u001b[0m\u001b[1;32m    506\u001b[0m \u001b[0;34m\u001b[0m\u001b[0m\n\u001b[1;32m    507\u001b[0m     \u001b[0;31m# Attempt to drop thresholds corresponding to points in between and\u001b[0m\u001b[0;34m\u001b[0m\u001b[0;34m\u001b[0m\u001b[0m\n",
      "\u001b[0;32m/Users/pauliglot/anaconda/envs/py35/lib/python3.5/site-packages/sklearn/metrics/ranking.py\u001b[0m in \u001b[0;36m_binary_clf_curve\u001b[0;34m(y_true, y_score, pos_label, sample_weight)\u001b[0m\n\u001b[1;32m    312\u001b[0m              \u001b[0marray_equal\u001b[0m\u001b[0;34m(\u001b[0m\u001b[0mclasses\u001b[0m\u001b[0;34m,\u001b[0m \u001b[0;34m[\u001b[0m\u001b[0;34m-\u001b[0m\u001b[0;36m1\u001b[0m\u001b[0;34m]\u001b[0m\u001b[0;34m)\u001b[0m \u001b[0;32mor\u001b[0m\u001b[0;34m\u001b[0m\u001b[0m\n\u001b[1;32m    313\u001b[0m              array_equal(classes, [1]))):\n\u001b[0;32m--> 314\u001b[0;31m         \u001b[0;32mraise\u001b[0m \u001b[0mValueError\u001b[0m\u001b[0;34m(\u001b[0m\u001b[0;34m\"Data is not binary and pos_label is not specified\"\u001b[0m\u001b[0;34m)\u001b[0m\u001b[0;34m\u001b[0m\u001b[0m\n\u001b[0m\u001b[1;32m    315\u001b[0m     \u001b[0;32melif\u001b[0m \u001b[0mpos_label\u001b[0m \u001b[0;32mis\u001b[0m \u001b[0;32mNone\u001b[0m\u001b[0;34m:\u001b[0m\u001b[0;34m\u001b[0m\u001b[0m\n\u001b[1;32m    316\u001b[0m         \u001b[0mpos_label\u001b[0m \u001b[0;34m=\u001b[0m \u001b[0;36m1.\u001b[0m\u001b[0;34m\u001b[0m\u001b[0m\n",
      "\u001b[0;31mValueError\u001b[0m: Data is not binary and pos_label is not specified"
     ]
    }
   ],
   "source": [
    "from sklearn.metrics import roc_curve, auc\n",
    "false_positive_rate, true_positive_rate, thresholds = roc_curve(lil_y_train, naive_train_preds[:,1])\n",
    "roc_auc = auc(false_positive_rate, true_positive_rate)"
   ]
  },
  {
   "cell_type": "code",
   "execution_count": 68,
   "metadata": {
    "collapsed": true
   },
   "outputs": [],
   "source": [
    "# oh, I forgot to binarize my labels.\n",
    "labels = pd.get_dummies(labels)"
   ]
  },
  {
   "cell_type": "code",
   "execution_count": 69,
   "metadata": {
    "collapsed": false
   },
   "outputs": [
    {
     "data": {
      "text/html": [
       "<div>\n",
       "<style>\n",
       "    .dataframe thead tr:only-child th {\n",
       "        text-align: right;\n",
       "    }\n",
       "\n",
       "    .dataframe thead th {\n",
       "        text-align: left;\n",
       "    }\n",
       "\n",
       "    .dataframe tbody tr th {\n",
       "        vertical-align: top;\n",
       "    }\n",
       "</style>\n",
       "<table border=\"1\" class=\"dataframe\">\n",
       "  <thead>\n",
       "    <tr style=\"text-align: right;\">\n",
       "      <th></th>\n",
       "      <th>Obama</th>\n",
       "      <th>Trump</th>\n",
       "    </tr>\n",
       "  </thead>\n",
       "  <tbody>\n",
       "    <tr>\n",
       "      <th>0</th>\n",
       "      <td>0</td>\n",
       "      <td>1</td>\n",
       "    </tr>\n",
       "    <tr>\n",
       "      <th>1</th>\n",
       "      <td>0</td>\n",
       "      <td>1</td>\n",
       "    </tr>\n",
       "    <tr>\n",
       "      <th>2</th>\n",
       "      <td>0</td>\n",
       "      <td>1</td>\n",
       "    </tr>\n",
       "    <tr>\n",
       "      <th>3</th>\n",
       "      <td>0</td>\n",
       "      <td>1</td>\n",
       "    </tr>\n",
       "    <tr>\n",
       "      <th>4</th>\n",
       "      <td>0</td>\n",
       "      <td>1</td>\n",
       "    </tr>\n",
       "  </tbody>\n",
       "</table>\n",
       "</div>"
      ],
      "text/plain": [
       "   Obama  Trump\n",
       "0      0      1\n",
       "1      0      1\n",
       "2      0      1\n",
       "3      0      1\n",
       "4      0      1"
      ]
     },
     "execution_count": 69,
     "metadata": {},
     "output_type": "execute_result"
    }
   ],
   "source": [
    "labels.head()"
   ]
  },
  {
   "cell_type": "code",
   "execution_count": 70,
   "metadata": {
    "collapsed": true
   },
   "outputs": [],
   "source": [
    "# that's not what I want.  RERUN.\n",
    "def binarize(label):\n",
    "    if label == \"Trump\":\n",
    "        return 1\n",
    "    return 0\n",
    "        \n",
    "df[\"president\"]=df[\"president\"].apply(binarize)"
   ]
  },
  {
   "cell_type": "code",
   "execution_count": 76,
   "metadata": {
    "collapsed": false
   },
   "outputs": [],
   "source": [
    "# ok, let's rebuild the whole damn thing.   and rerun the model.\n",
    "labels = pd.Series(df[\"president\"])\n",
    "lillabels = labels[(df[\"president\"] == 1) | (df[\"date\"] <= cutoff_date)]\n"
   ]
  },
  {
   "cell_type": "code",
   "execution_count": 77,
   "metadata": {
    "collapsed": false
   },
   "outputs": [
    {
     "data": {
      "text/plain": [
       "BernoulliNB(alpha=1.0, binarize=0.0, class_prior=None, fit_prior=True)"
      ]
     },
     "execution_count": 77,
     "metadata": {},
     "output_type": "execute_result"
    }
   ],
   "source": [
    "lil_x_train, lil_x_test, lil_y_train, lil_y_test = train_test_split(liltokens, lillabels, test_size=0.2)\n",
    "naive_presidents = BernoulliNB()\n",
    "naive_presidents.fit(lil_x_train, lil_y_train)"
   ]
  },
  {
   "cell_type": "code",
   "execution_count": 78,
   "metadata": {
    "collapsed": false
   },
   "outputs": [],
   "source": [
    "naive_train_preds = naive_presidents.predict_proba(lil_x_train)"
   ]
  },
  {
   "cell_type": "code",
   "execution_count": 79,
   "metadata": {
    "collapsed": false
   },
   "outputs": [],
   "source": [
    "false_positive_rate, true_positive_rate, thresholds = roc_curve(lil_y_train, naive_train_preds[:,1])\n",
    "roc_auc = auc(false_positive_rate, true_positive_rate)"
   ]
  },
  {
   "cell_type": "code",
   "execution_count": 80,
   "metadata": {
    "collapsed": false
   },
   "outputs": [
    {
     "data": {
      "text/plain": [
       "0.95200991783053446"
      ]
     },
     "execution_count": 80,
     "metadata": {},
     "output_type": "execute_result"
    }
   ],
   "source": [
    "roc_auc"
   ]
  },
  {
   "cell_type": "code",
   "execution_count": 82,
   "metadata": {
    "collapsed": false
   },
   "outputs": [
    {
     "name": "stderr",
     "output_type": "stream",
     "text": [
      "/Users/pauliglot/anaconda/envs/py35/lib/python3.5/site-packages/ggplot/utils.py:81: FutureWarning: pandas.tslib is deprecated and will be removed in a future version.\n",
      "You can access Timestamp as pandas.Timestamp\n",
      "  pd.tslib.Timestamp,\n",
      "/Users/pauliglot/anaconda/envs/py35/lib/python3.5/site-packages/ggplot/stats/smoothers.py:4: FutureWarning: The pandas.lib module is deprecated and will be removed in a future version. These are private functions and can be accessed from pandas._libs.lib instead\n",
      "  from pandas.lib import Timestamp\n",
      "/Users/pauliglot/anaconda/envs/py35/lib/python3.5/site-packages/statsmodels/compat/pandas.py:56: FutureWarning: The pandas.core.datetools module is deprecated and will be removed in a future version. Please use the pandas.tseries module instead.\n",
      "  from pandas.core import datetools\n"
     ]
    }
   ],
   "source": [
    "# well that ain't bad, even on training data. Let's do a pretty plot\n",
    "from ggplot import *"
   ]
  },
  {
   "cell_type": "code",
   "execution_count": 85,
   "metadata": {
    "collapsed": false
   },
   "outputs": [
    {
     "data": {
      "image/png": "[encoded data removed]",
      "text/plain": [
       "<matplotlib.figure.Figure at 0x1238bb940>"
      ]
     },
     "metadata": {},
     "output_type": "display_data"
    },
    {
     "data": {
      "text/plain": [
       "<ggplot: (-9223372036549067951)>"
      ]
     },
     "execution_count": 85,
     "metadata": {},
     "output_type": "execute_result"
    }
   ],
   "source": [
    "rocplot1 = pd.DataFrame(dict(fpr=false_positive_rate, tpr=true_positive_rate))\n",
    "ggplot(rocplot1, aes(x='fpr', y='tpr')) +\\\n",
    "    geom_line() +\\\n",
    "    geom_abline(linetype='dashed')"
   ]
  },
  {
   "cell_type": "code",
   "execution_count": 86,
   "metadata": {
    "collapsed": false
   },
   "outputs": [
    {
     "name": "stdout",
     "output_type": "stream",
     "text": [
      "0.925500370645\n"
     ]
    }
   ],
   "source": [
    "# interesting.  let's see how this performs on test data.\n",
    "naive_test_preds = naive_presidents.predict_proba(lil_x_test)\n",
    "false_positive_rate, true_positive_rate, thresholds = roc_curve(lil_y_test, naive_test_preds[:,1])\n",
    "test_auc = auc(false_positive_rate, true_positive_rate)\n",
    "print(test_auc)"
   ]
  },
  {
   "cell_type": "code",
   "execution_count": 87,
   "metadata": {
    "collapsed": false,
    "scrolled": true
   },
   "outputs": [
    {
     "data": {
      "image/png": "[encoded data removed]",
      "text/plain": [
       "<matplotlib.figure.Figure at 0x11baf8c88>"
      ]
     },
     "metadata": {},
     "output_type": "display_data"
    },
    {
     "data": {
      "text/plain": [
       "<ggplot: (-9223372036544336405)>"
      ]
     },
     "execution_count": 87,
     "metadata": {},
     "output_type": "execute_result"
    }
   ],
   "source": [
    "# not bad! \n",
    "rocplot2 = pd.DataFrame(dict(fpr=false_positive_rate, tpr=true_positive_rate))\n",
    "ggplot(rocplot2, aes(x='fpr', y='tpr')) +\\\n",
    "    geom_line() +\\\n",
    "    geom_abline(linetype='dashed')"
   ]
  },
  {
   "cell_type": "markdown",
   "metadata": {},
   "source": [
    "That's surprisingly good.  Let's see if I can do as well or better just fousing on the stuff that is probably actually from the president..."
   ]
  },
  {
   "cell_type": "code",
   "execution_count": 88,
   "metadata": {
    "collapsed": true
   },
   "outputs": [],
   "source": [
    "tinylabels = labels[((df[\"president\"] == 1) | (df[\"date\"] <= cutoff_date)) & (df[\"actual_president_guess\"] == True) ]"
   ]
  },
  {
   "cell_type": "code",
   "execution_count": 89,
   "metadata": {
    "collapsed": false
   },
   "outputs": [
    {
     "data": {
      "text/plain": [
       "536"
      ]
     },
     "execution_count": 89,
     "metadata": {},
     "output_type": "execute_result"
    }
   ],
   "source": [
    "len(tinylabels)"
   ]
  },
  {
   "cell_type": "code",
   "execution_count": 90,
   "metadata": {
    "collapsed": false
   },
   "outputs": [
    {
     "data": {
      "text/plain": [
       "732"
      ]
     },
     "execution_count": 90,
     "metadata": {},
     "output_type": "execute_result"
    }
   ],
   "source": [
    "len(lillabels)"
   ]
  },
  {
   "cell_type": "code",
   "execution_count": 91,
   "metadata": {
    "collapsed": true
   },
   "outputs": [],
   "source": [
    "# I don't lose TOOOO much. \n",
    "tinytokens = tokens[((df[\"president\"] == 1) | (df[\"date\"] <= cutoff_date)) & (df[\"actual_president_guess\"] == True) ]"
   ]
  },
  {
   "cell_type": "code",
   "execution_count": 92,
   "metadata": {
    "collapsed": false
   },
   "outputs": [
    {
     "data": {
      "text/plain": [
       "536"
      ]
     },
     "execution_count": 92,
     "metadata": {},
     "output_type": "execute_result"
    }
   ],
   "source": [
    "len(tinytokens)"
   ]
  },
  {
   "cell_type": "code",
   "execution_count": 94,
   "metadata": {
    "collapsed": false
   },
   "outputs": [
    {
     "data": {
      "text/plain": [
       "BernoulliNB(alpha=1.0, binarize=0.0, class_prior=None, fit_prior=True)"
      ]
     },
     "execution_count": 94,
     "metadata": {},
     "output_type": "execute_result"
    }
   ],
   "source": [
    "tiny_x_train, tiny_x_test, tiny_y_train, tiny_y_test = train_test_split(tinytokens, tinylabels, test_size=0.2)\n",
    "tiny_presidents = BernoulliNB()\n",
    "tiny_presidents.fit(tiny_x_train, tiny_y_train)"
   ]
  },
  {
   "cell_type": "code",
   "execution_count": 95,
   "metadata": {
    "collapsed": false
   },
   "outputs": [
    {
     "data": {
      "text/plain": [
       "array([-0.55786499, -0.84963704])"
      ]
     },
     "execution_count": 95,
     "metadata": {},
     "output_type": "execute_result"
    }
   ],
   "source": [
    "# out of curiosity, is my new dataset still sorta balanced?\n",
    "tiny_presidents.class_log_prior_"
   ]
  },
  {
   "cell_type": "code",
   "execution_count": 96,
   "metadata": {
    "collapsed": false
   },
   "outputs": [
    {
     "data": {
      "text/plain": [
       "[0.6793067123821298, 0.5549243278905807]"
      ]
     },
     "execution_count": 96,
     "metadata": {},
     "output_type": "execute_result"
    }
   ],
   "source": [
    "from math import pow\n",
    "[pow(2, x) for x in tiny_presidents.class_log_prior_]"
   ]
  },
  {
   "cell_type": "code",
   "execution_count": 98,
   "metadata": {
    "collapsed": false
   },
   "outputs": [
    {
     "data": {
      "text/plain": [
       "[0.5724299065420565, 0.4275700934579442]"
      ]
     },
     "execution_count": 98,
     "metadata": {},
     "output_type": "execute_result"
    }
   ],
   "source": [
    "# that's not right..\n",
    "import math\n",
    "[pow(math.e, x) for x in tiny_presidents.class_log_prior_]"
   ]
  },
  {
   "cell_type": "code",
   "execution_count": 99,
   "metadata": {
    "collapsed": false
   },
   "outputs": [
    {
     "data": {
      "text/plain": [
       "(2, 57977)"
      ]
     },
     "execution_count": 99,
     "metadata": {},
     "output_type": "execute_result"
    }
   ],
   "source": [
    "# that's more like it.  And that's pretty balanced, actually. \n",
    "tiny_presidents.feature_log_prob_.shape"
   ]
  },
  {
   "cell_type": "code",
   "execution_count": 100,
   "metadata": {
    "collapsed": false
   },
   "outputs": [
    {
     "name": "stdout",
     "output_type": "stream",
     "text": [
      "0.787068004459\n"
     ]
    }
   ],
   "source": [
    "# note to self, productionize just by grabbing those probs and sticking in javascript impementation.\n",
    "tiny_test_preds = tiny_presidents.predict_proba(tiny_x_test)\n",
    "false_positive_rate, true_positive_rate, thresholds = roc_curve(tiny_y_test, tiny_test_preds[:,1])\n",
    "tiny_auc = auc(false_positive_rate, true_positive_rate)\n",
    "print(tiny_auc)"
   ]
  },
  {
   "cell_type": "markdown",
   "metadata": {},
   "source": [
    "eeeh.  could be worse. lots better than baseline.  Interesting that it's significantly easier to predict *administration* speeches than it is to predict *president* speeches.\n"
   ]
  },
  {
   "cell_type": "code",
   "execution_count": 101,
   "metadata": {
    "collapsed": false
   },
   "outputs": [
    {
     "data": {
      "image/png": "[encoded data removed]",
      "text/plain": [
       "<matplotlib.figure.Figure at 0x1280e8780>"
      ]
     },
     "metadata": {},
     "output_type": "display_data"
    },
    {
     "data": {
      "text/plain": [
       "<ggplot: (304254349)>"
      ]
     },
     "execution_count": 101,
     "metadata": {},
     "output_type": "execute_result"
    }
   ],
   "source": [
    "tiny_roc = pd.DataFrame(dict(fpr=false_positive_rate, tpr=true_positive_rate))\n",
    "ggplot(tiny_roc, aes(x='fpr', y='tpr')) +\\\n",
    "    geom_line() +\\\n",
    "    geom_abline(linetype='dashed')"
   ]
  },
  {
   "cell_type": "markdown",
   "metadata": {},
   "source": [
    "It looks like I have a good elbow right around 0.3 for the presidents model, and maybe a little lower for the administration one.  Cool."
   ]
  },
  {
   "cell_type": "markdown",
   "metadata": {},
   "source": [
    "Out of curiosity, let's see what a pre-trained sentiment analyzer looks like here"
   ]
  },
  {
   "cell_type": "code",
   "execution_count": 102,
   "metadata": {
    "collapsed": false
   },
   "outputs": [
    {
     "ename": "KeyError",
     "evalue": "\"['polarity' 'subjectivity'] not in index\"",
     "output_type": "error",
     "traceback": [
      "\u001b[0;31m---------------------------------------------------------------------------\u001b[0m",
      "\u001b[0;31mKeyError\u001b[0m                                  Traceback (most recent call last)",
      "\u001b[0;32m<ipython-input-102-daeaab48b238>\u001b[0m in \u001b[0;36m<module>\u001b[0;34m()\u001b[0m\n\u001b[1;32m      2\u001b[0m \u001b[0;32mdef\u001b[0m \u001b[0mgetSentiment\u001b[0m\u001b[0;34m(\u001b[0m\u001b[0mspeech\u001b[0m\u001b[0;34m)\u001b[0m\u001b[0;34m:\u001b[0m\u001b[0;34m\u001b[0m\u001b[0m\n\u001b[1;32m      3\u001b[0m     \u001b[0;32mreturn\u001b[0m \u001b[0mTextBlob\u001b[0m\u001b[0;34m(\u001b[0m\u001b[0mspeech\u001b[0m\u001b[0;34m)\u001b[0m\u001b[0;34m.\u001b[0m\u001b[0msentiment\u001b[0m\u001b[0;34m\u001b[0m\u001b[0m\n\u001b[0;32m----> 4\u001b[0;31m \u001b[0mdf\u001b[0m\u001b[0;34m[\u001b[0m\u001b[0;34m[\u001b[0m\u001b[0;34m\"polarity\"\u001b[0m\u001b[0;34m,\u001b[0m \u001b[0;34m\"subjectivity\"\u001b[0m\u001b[0;34m]\u001b[0m\u001b[0;34m]\u001b[0m \u001b[0;34m=\u001b[0m \u001b[0mdf\u001b[0m\u001b[0;34m[\u001b[0m\u001b[0;34m\"simple_content\"\u001b[0m\u001b[0;34m]\u001b[0m\u001b[0;34m.\u001b[0m\u001b[0mapply\u001b[0m\u001b[0;34m(\u001b[0m\u001b[0mgetSentiment\u001b[0m\u001b[0;34m)\u001b[0m\u001b[0;34m\u001b[0m\u001b[0m\n\u001b[0m",
      "\u001b[0;32m/Users/pauliglot/anaconda/envs/py35/lib/python3.5/site-packages/pandas/core/frame.py\u001b[0m in \u001b[0;36m__setitem__\u001b[0;34m(self, key, value)\u001b[0m\n\u001b[1;32m   2324\u001b[0m \u001b[0;34m\u001b[0m\u001b[0m\n\u001b[1;32m   2325\u001b[0m         \u001b[0;32mif\u001b[0m \u001b[0misinstance\u001b[0m\u001b[0;34m(\u001b[0m\u001b[0mkey\u001b[0m\u001b[0;34m,\u001b[0m \u001b[0;34m(\u001b[0m\u001b[0mSeries\u001b[0m\u001b[0;34m,\u001b[0m \u001b[0mnp\u001b[0m\u001b[0;34m.\u001b[0m\u001b[0mndarray\u001b[0m\u001b[0;34m,\u001b[0m \u001b[0mlist\u001b[0m\u001b[0;34m,\u001b[0m \u001b[0mIndex\u001b[0m\u001b[0;34m)\u001b[0m\u001b[0;34m)\u001b[0m\u001b[0;34m:\u001b[0m\u001b[0;34m\u001b[0m\u001b[0m\n\u001b[0;32m-> 2326\u001b[0;31m             \u001b[0mself\u001b[0m\u001b[0;34m.\u001b[0m\u001b[0m_setitem_array\u001b[0m\u001b[0;34m(\u001b[0m\u001b[0mkey\u001b[0m\u001b[0;34m,\u001b[0m \u001b[0mvalue\u001b[0m\u001b[0;34m)\u001b[0m\u001b[0;34m\u001b[0m\u001b[0m\n\u001b[0m\u001b[1;32m   2327\u001b[0m         \u001b[0;32melif\u001b[0m \u001b[0misinstance\u001b[0m\u001b[0;34m(\u001b[0m\u001b[0mkey\u001b[0m\u001b[0;34m,\u001b[0m \u001b[0mDataFrame\u001b[0m\u001b[0;34m)\u001b[0m\u001b[0;34m:\u001b[0m\u001b[0;34m\u001b[0m\u001b[0m\n\u001b[1;32m   2328\u001b[0m             \u001b[0mself\u001b[0m\u001b[0;34m.\u001b[0m\u001b[0m_setitem_frame\u001b[0m\u001b[0;34m(\u001b[0m\u001b[0mkey\u001b[0m\u001b[0;34m,\u001b[0m \u001b[0mvalue\u001b[0m\u001b[0;34m)\u001b[0m\u001b[0;34m\u001b[0m\u001b[0m\n",
      "\u001b[0;32m/Users/pauliglot/anaconda/envs/py35/lib/python3.5/site-packages/pandas/core/frame.py\u001b[0m in \u001b[0;36m_setitem_array\u001b[0;34m(self, key, value)\u001b[0m\n\u001b[1;32m   2352\u001b[0m                     \u001b[0mself\u001b[0m\u001b[0;34m[\u001b[0m\u001b[0mk1\u001b[0m\u001b[0;34m]\u001b[0m \u001b[0;34m=\u001b[0m \u001b[0mvalue\u001b[0m\u001b[0;34m[\u001b[0m\u001b[0mk2\u001b[0m\u001b[0;34m]\u001b[0m\u001b[0;34m\u001b[0m\u001b[0m\n\u001b[1;32m   2353\u001b[0m             \u001b[0;32melse\u001b[0m\u001b[0;34m:\u001b[0m\u001b[0;34m\u001b[0m\u001b[0m\n\u001b[0;32m-> 2354\u001b[0;31m                 \u001b[0mindexer\u001b[0m \u001b[0;34m=\u001b[0m \u001b[0mself\u001b[0m\u001b[0;34m.\u001b[0m\u001b[0mloc\u001b[0m\u001b[0;34m.\u001b[0m\u001b[0m_convert_to_indexer\u001b[0m\u001b[0;34m(\u001b[0m\u001b[0mkey\u001b[0m\u001b[0;34m,\u001b[0m \u001b[0maxis\u001b[0m\u001b[0;34m=\u001b[0m\u001b[0;36m1\u001b[0m\u001b[0;34m)\u001b[0m\u001b[0;34m\u001b[0m\u001b[0m\n\u001b[0m\u001b[1;32m   2355\u001b[0m                 \u001b[0mself\u001b[0m\u001b[0;34m.\u001b[0m\u001b[0m_check_setitem_copy\u001b[0m\u001b[0;34m(\u001b[0m\u001b[0;34m)\u001b[0m\u001b[0;34m\u001b[0m\u001b[0m\n\u001b[1;32m   2356\u001b[0m                 \u001b[0mself\u001b[0m\u001b[0;34m.\u001b[0m\u001b[0mloc\u001b[0m\u001b[0;34m.\u001b[0m\u001b[0m_setitem_with_indexer\u001b[0m\u001b[0;34m(\u001b[0m\u001b[0;34m(\u001b[0m\u001b[0mslice\u001b[0m\u001b[0;34m(\u001b[0m\u001b[0;32mNone\u001b[0m\u001b[0;34m)\u001b[0m\u001b[0;34m,\u001b[0m \u001b[0mindexer\u001b[0m\u001b[0;34m)\u001b[0m\u001b[0;34m,\u001b[0m \u001b[0mvalue\u001b[0m\u001b[0;34m)\u001b[0m\u001b[0;34m\u001b[0m\u001b[0m\n",
      "\u001b[0;32m/Users/pauliglot/anaconda/envs/py35/lib/python3.5/site-packages/pandas/core/indexing.py\u001b[0m in \u001b[0;36m_convert_to_indexer\u001b[0;34m(self, obj, axis, is_setter)\u001b[0m\n\u001b[1;32m   1229\u001b[0m                 \u001b[0mmask\u001b[0m \u001b[0;34m=\u001b[0m \u001b[0mcheck\u001b[0m \u001b[0;34m==\u001b[0m \u001b[0;34m-\u001b[0m\u001b[0;36m1\u001b[0m\u001b[0;34m\u001b[0m\u001b[0m\n\u001b[1;32m   1230\u001b[0m                 \u001b[0;32mif\u001b[0m \u001b[0mmask\u001b[0m\u001b[0;34m.\u001b[0m\u001b[0many\u001b[0m\u001b[0;34m(\u001b[0m\u001b[0;34m)\u001b[0m\u001b[0;34m:\u001b[0m\u001b[0;34m\u001b[0m\u001b[0m\n\u001b[0;32m-> 1231\u001b[0;31m                     \u001b[0;32mraise\u001b[0m \u001b[0mKeyError\u001b[0m\u001b[0;34m(\u001b[0m\u001b[0;34m'%s not in index'\u001b[0m \u001b[0;34m%\u001b[0m \u001b[0mobjarr\u001b[0m\u001b[0;34m[\u001b[0m\u001b[0mmask\u001b[0m\u001b[0;34m]\u001b[0m\u001b[0;34m)\u001b[0m\u001b[0;34m\u001b[0m\u001b[0m\n\u001b[0m\u001b[1;32m   1232\u001b[0m \u001b[0;34m\u001b[0m\u001b[0m\n\u001b[1;32m   1233\u001b[0m                 \u001b[0;32mreturn\u001b[0m \u001b[0m_values_from_object\u001b[0m\u001b[0;34m(\u001b[0m\u001b[0mindexer\u001b[0m\u001b[0;34m)\u001b[0m\u001b[0;34m\u001b[0m\u001b[0m\n",
      "\u001b[0;31mKeyError\u001b[0m: \"['polarity' 'subjectivity'] not in index\""
     ]
    }
   ],
   "source": [
    "from textblob import TextBlob\n",
    "def getSentiment(speech):\n",
    "    return TextBlob(speech).sentiment\n",
    "df[[\"polarity\", \"subjectivity\"]] = df[\"simple_content\"].apply(getSentiment)"
   ]
  },
  {
   "cell_type": "code",
   "execution_count": 103,
   "metadata": {
    "collapsed": true
   },
   "outputs": [],
   "source": [
    "# oy.  I can't figure out how to do this in pandas.  just using concat.\n",
    "\n",
    "sentiments = pd.DataFrame(df[\"simple_content\"].apply(getSentiment).copy())"
   ]
  },
  {
   "cell_type": "code",
   "execution_count": 104,
   "metadata": {
    "collapsed": false
   },
   "outputs": [
    {
     "data": {
      "text/html": [
       "<div>\n",
       "<style>\n",
       "    .dataframe thead tr:only-child th {\n",
       "        text-align: right;\n",
       "    }\n",
       "\n",
       "    .dataframe thead th {\n",
       "        text-align: left;\n",
       "    }\n",
       "\n",
       "    .dataframe tbody tr th {\n",
       "        vertical-align: top;\n",
       "    }\n",
       "</style>\n",
       "<table border=\"1\" class=\"dataframe\">\n",
       "  <thead>\n",
       "    <tr style=\"text-align: right;\">\n",
       "      <th></th>\n",
       "      <th>simple_content</th>\n",
       "    </tr>\n",
       "  </thead>\n",
       "  <tbody>\n",
       "    <tr>\n",
       "      <th>0</th>\n",
       "      <td>(0.13317619292195562, 0.5358316824418518)</td>\n",
       "    </tr>\n",
       "    <tr>\n",
       "      <th>1</th>\n",
       "      <td>(0.15702423486266287, 0.46393205290585227)</td>\n",
       "    </tr>\n",
       "    <tr>\n",
       "      <th>2</th>\n",
       "      <td>(0.4, 0.4)</td>\n",
       "    </tr>\n",
       "    <tr>\n",
       "      <th>3</th>\n",
       "      <td>(0.29466666666666674, 0.512)</td>\n",
       "    </tr>\n",
       "    <tr>\n",
       "      <th>4</th>\n",
       "      <td>(0.2681272692361401, 0.4534909870595354)</td>\n",
       "    </tr>\n",
       "  </tbody>\n",
       "</table>\n",
       "</div>"
      ],
      "text/plain": [
       "                               simple_content\n",
       "0   (0.13317619292195562, 0.5358316824418518)\n",
       "1  (0.15702423486266287, 0.46393205290585227)\n",
       "2                                  (0.4, 0.4)\n",
       "3                (0.29466666666666674, 0.512)\n",
       "4    (0.2681272692361401, 0.4534909870595354)"
      ]
     },
     "execution_count": 104,
     "metadata": {},
     "output_type": "execute_result"
    }
   ],
   "source": [
    "sentiments.head()"
   ]
  },
  {
   "cell_type": "code",
   "execution_count": 105,
   "metadata": {
    "collapsed": true
   },
   "outputs": [],
   "source": [
    "sentiments[['polarity', 'subjectivity']] = sentiments['simple_content'].apply(pd.Series)"
   ]
  },
  {
   "cell_type": "code",
   "execution_count": 106,
   "metadata": {
    "collapsed": false
   },
   "outputs": [
    {
     "data": {
      "text/html": [
       "<div>\n",
       "<style>\n",
       "    .dataframe thead tr:only-child th {\n",
       "        text-align: right;\n",
       "    }\n",
       "\n",
       "    .dataframe thead th {\n",
       "        text-align: left;\n",
       "    }\n",
       "\n",
       "    .dataframe tbody tr th {\n",
       "        vertical-align: top;\n",
       "    }\n",
       "</style>\n",
       "<table border=\"1\" class=\"dataframe\">\n",
       "  <thead>\n",
       "    <tr style=\"text-align: right;\">\n",
       "      <th></th>\n",
       "      <th>simple_content</th>\n",
       "      <th>polarity</th>\n",
       "      <th>subjectivity</th>\n",
       "    </tr>\n",
       "  </thead>\n",
       "  <tbody>\n",
       "    <tr>\n",
       "      <th>0</th>\n",
       "      <td>(0.13317619292195562, 0.5358316824418518)</td>\n",
       "      <td>0.133176</td>\n",
       "      <td>0.535832</td>\n",
       "    </tr>\n",
       "    <tr>\n",
       "      <th>1</th>\n",
       "      <td>(0.15702423486266287, 0.46393205290585227)</td>\n",
       "      <td>0.157024</td>\n",
       "      <td>0.463932</td>\n",
       "    </tr>\n",
       "    <tr>\n",
       "      <th>2</th>\n",
       "      <td>(0.4, 0.4)</td>\n",
       "      <td>0.400000</td>\n",
       "      <td>0.400000</td>\n",
       "    </tr>\n",
       "    <tr>\n",
       "      <th>3</th>\n",
       "      <td>(0.29466666666666674, 0.512)</td>\n",
       "      <td>0.294667</td>\n",
       "      <td>0.512000</td>\n",
       "    </tr>\n",
       "    <tr>\n",
       "      <th>4</th>\n",
       "      <td>(0.2681272692361401, 0.4534909870595354)</td>\n",
       "      <td>0.268127</td>\n",
       "      <td>0.453491</td>\n",
       "    </tr>\n",
       "  </tbody>\n",
       "</table>\n",
       "</div>"
      ],
      "text/plain": [
       "                               simple_content  polarity  subjectivity\n",
       "0   (0.13317619292195562, 0.5358316824418518)  0.133176      0.535832\n",
       "1  (0.15702423486266287, 0.46393205290585227)  0.157024      0.463932\n",
       "2                                  (0.4, 0.4)  0.400000      0.400000\n",
       "3                (0.29466666666666674, 0.512)  0.294667      0.512000\n",
       "4    (0.2681272692361401, 0.4534909870595354)  0.268127      0.453491"
      ]
     },
     "execution_count": 106,
     "metadata": {},
     "output_type": "execute_result"
    }
   ],
   "source": [
    "sentiments.head()"
   ]
  },
  {
   "cell_type": "code",
   "execution_count": 107,
   "metadata": {
    "collapsed": false
   },
   "outputs": [
    {
     "data": {
      "text/html": [
       "<div>\n",
       "<style>\n",
       "    .dataframe thead tr:only-child th {\n",
       "        text-align: right;\n",
       "    }\n",
       "\n",
       "    .dataframe thead th {\n",
       "        text-align: left;\n",
       "    }\n",
       "\n",
       "    .dataframe tbody tr th {\n",
       "        vertical-align: top;\n",
       "    }\n",
       "</style>\n",
       "<table border=\"1\" class=\"dataframe\">\n",
       "  <thead>\n",
       "    <tr style=\"text-align: right;\">\n",
       "      <th></th>\n",
       "      <th>actual_president_guess</th>\n",
       "      <th>content</th>\n",
       "      <th>date</th>\n",
       "      <th>president</th>\n",
       "      <th>title</th>\n",
       "      <th>url</th>\n",
       "      <th>simple_content</th>\n",
       "    </tr>\n",
       "  </thead>\n",
       "  <tbody>\n",
       "    <tr>\n",
       "      <th>0</th>\n",
       "      <td>True</td>\n",
       "      <td>trump national golf club bedminster new jersey...</td>\n",
       "      <td>2017-08-08 17:55:00</td>\n",
       "      <td>1</td>\n",
       "      <td>Remarks by President Trump Before a Briefing o...</td>\n",
       "      <td>https://www.whitehouse.gov/the-press-office/20...</td>\n",
       "      <td>trump national golf club bedminster new jersey...</td>\n",
       "    </tr>\n",
       "    <tr>\n",
       "      <th>1</th>\n",
       "      <td>False</td>\n",
       "      <td>hyatt regency capitol hill washington d c p m ...</td>\n",
       "      <td>2017-08-04 21:45:00</td>\n",
       "      <td>1</td>\n",
       "      <td>Remarks by the Vice President to the Young Ame...</td>\n",
       "      <td>https://www.whitehouse.gov/the-press-office/20...</td>\n",
       "      <td>hyatt regency capitol hill washington c p edt ...</td>\n",
       "    </tr>\n",
       "    <tr>\n",
       "      <th>2</th>\n",
       "      <td>True</td>\n",
       "      <td>the president s weekly address is now availabl...</td>\n",
       "      <td>2017-08-04 20:39:00</td>\n",
       "      <td>1</td>\n",
       "      <td>President Donald J. Trump’s Weekly Address | w...</td>\n",
       "      <td>https://www.whitehouse.gov/the-press-office/20...</td>\n",
       "      <td>president weekly address available watch youtu...</td>\n",
       "    </tr>\n",
       "    <tr>\n",
       "      <th>3</th>\n",
       "      <td>True</td>\n",
       "      <td>fema headquarters washington d c a m edt the p...</td>\n",
       "      <td>2017-08-04 12:15:07</td>\n",
       "      <td>1</td>\n",
       "      <td>Remarks by President Trump at FEMA Headquarter...</td>\n",
       "      <td>https://www.whitehouse.gov/the-press-office/20...</td>\n",
       "      <td>fema headquarters washington c edt president o...</td>\n",
       "    </tr>\n",
       "    <tr>\n",
       "      <th>4</th>\n",
       "      <td>True</td>\n",
       "      <td>roosevelt room a m edt the president good morn...</td>\n",
       "      <td>2017-08-03 12:41:00</td>\n",
       "      <td>1</td>\n",
       "      <td>Remarks by President Trump at Department of Ve...</td>\n",
       "      <td>https://www.whitehouse.gov/the-press-office/20...</td>\n",
       "      <td>roosevelt room edt president good morning like...</td>\n",
       "    </tr>\n",
       "  </tbody>\n",
       "</table>\n",
       "</div>"
      ],
      "text/plain": [
       "   actual_president_guess                                            content  \\\n",
       "0                    True  trump national golf club bedminster new jersey...   \n",
       "1                   False  hyatt regency capitol hill washington d c p m ...   \n",
       "2                    True  the president s weekly address is now availabl...   \n",
       "3                    True  fema headquarters washington d c a m edt the p...   \n",
       "4                    True  roosevelt room a m edt the president good morn...   \n",
       "\n",
       "                 date  president  \\\n",
       "0 2017-08-08 17:55:00          1   \n",
       "1 2017-08-04 21:45:00          1   \n",
       "2 2017-08-04 20:39:00          1   \n",
       "3 2017-08-04 12:15:07          1   \n",
       "4 2017-08-03 12:41:00          1   \n",
       "\n",
       "                                               title  \\\n",
       "0  Remarks by President Trump Before a Briefing o...   \n",
       "1  Remarks by the Vice President to the Young Ame...   \n",
       "2  President Donald J. Trump’s Weekly Address | w...   \n",
       "3  Remarks by President Trump at FEMA Headquarter...   \n",
       "4  Remarks by President Trump at Department of Ve...   \n",
       "\n",
       "                                                 url  \\\n",
       "0  https://www.whitehouse.gov/the-press-office/20...   \n",
       "1  https://www.whitehouse.gov/the-press-office/20...   \n",
       "2  https://www.whitehouse.gov/the-press-office/20...   \n",
       "3  https://www.whitehouse.gov/the-press-office/20...   \n",
       "4  https://www.whitehouse.gov/the-press-office/20...   \n",
       "\n",
       "                                      simple_content  \n",
       "0  trump national golf club bedminster new jersey...  \n",
       "1  hyatt regency capitol hill washington c p edt ...  \n",
       "2  president weekly address available watch youtu...  \n",
       "3  fema headquarters washington c edt president o...  \n",
       "4  roosevelt room edt president good morning like...  "
      ]
     },
     "execution_count": 107,
     "metadata": {},
     "output_type": "execute_result"
    }
   ],
   "source": [
    "df.head()"
   ]
  },
  {
   "cell_type": "code",
   "execution_count": 108,
   "metadata": {
    "collapsed": true
   },
   "outputs": [],
   "source": [
    "sentiments = sentiments[['polarity','subjectivity']].copy()"
   ]
  },
  {
   "cell_type": "code",
   "execution_count": 109,
   "metadata": {
    "collapsed": false
   },
   "outputs": [
    {
     "data": {
      "text/html": [
       "<div>\n",
       "<style>\n",
       "    .dataframe thead tr:only-child th {\n",
       "        text-align: right;\n",
       "    }\n",
       "\n",
       "    .dataframe thead th {\n",
       "        text-align: left;\n",
       "    }\n",
       "\n",
       "    .dataframe tbody tr th {\n",
       "        vertical-align: top;\n",
       "    }\n",
       "</style>\n",
       "<table border=\"1\" class=\"dataframe\">\n",
       "  <thead>\n",
       "    <tr style=\"text-align: right;\">\n",
       "      <th></th>\n",
       "      <th>polarity</th>\n",
       "      <th>subjectivity</th>\n",
       "    </tr>\n",
       "  </thead>\n",
       "  <tbody>\n",
       "    <tr>\n",
       "      <th>0</th>\n",
       "      <td>0.133176</td>\n",
       "      <td>0.535832</td>\n",
       "    </tr>\n",
       "    <tr>\n",
       "      <th>1</th>\n",
       "      <td>0.157024</td>\n",
       "      <td>0.463932</td>\n",
       "    </tr>\n",
       "    <tr>\n",
       "      <th>2</th>\n",
       "      <td>0.400000</td>\n",
       "      <td>0.400000</td>\n",
       "    </tr>\n",
       "    <tr>\n",
       "      <th>3</th>\n",
       "      <td>0.294667</td>\n",
       "      <td>0.512000</td>\n",
       "    </tr>\n",
       "    <tr>\n",
       "      <th>4</th>\n",
       "      <td>0.268127</td>\n",
       "      <td>0.453491</td>\n",
       "    </tr>\n",
       "  </tbody>\n",
       "</table>\n",
       "</div>"
      ],
      "text/plain": [
       "   polarity  subjectivity\n",
       "0  0.133176      0.535832\n",
       "1  0.157024      0.463932\n",
       "2  0.400000      0.400000\n",
       "3  0.294667      0.512000\n",
       "4  0.268127      0.453491"
      ]
     },
     "execution_count": 109,
     "metadata": {},
     "output_type": "execute_result"
    }
   ],
   "source": [
    "sentiments.head()"
   ]
  },
  {
   "cell_type": "code",
   "execution_count": 111,
   "metadata": {
    "collapsed": false
   },
   "outputs": [
    {
     "data": {
      "text/plain": [
       "(5036, 2)"
      ]
     },
     "execution_count": 111,
     "metadata": {},
     "output_type": "execute_result"
    }
   ],
   "source": [
    "sentiments.shape"
   ]
  },
  {
   "cell_type": "code",
   "execution_count": 112,
   "metadata": {
    "collapsed": true
   },
   "outputs": [],
   "source": [
    "df_new = pd.concat([df, sentiments], axis=1)"
   ]
  },
  {
   "cell_type": "code",
   "execution_count": 113,
   "metadata": {
    "collapsed": false
   },
   "outputs": [
    {
     "data": {
      "text/plain": [
       "(5036, 9)"
      ]
     },
     "execution_count": 113,
     "metadata": {},
     "output_type": "execute_result"
    }
   ],
   "source": [
    "df_new.shape"
   ]
  },
  {
   "cell_type": "code",
   "execution_count": 114,
   "metadata": {
    "collapsed": false
   },
   "outputs": [
    {
     "data": {
      "text/html": [
       "<div>\n",
       "<style>\n",
       "    .dataframe thead tr:only-child th {\n",
       "        text-align: right;\n",
       "    }\n",
       "\n",
       "    .dataframe thead th {\n",
       "        text-align: left;\n",
       "    }\n",
       "\n",
       "    .dataframe tbody tr th {\n",
       "        vertical-align: top;\n",
       "    }\n",
       "</style>\n",
       "<table border=\"1\" class=\"dataframe\">\n",
       "  <thead>\n",
       "    <tr style=\"text-align: right;\">\n",
       "      <th></th>\n",
       "      <th>actual_president_guess</th>\n",
       "      <th>content</th>\n",
       "      <th>date</th>\n",
       "      <th>president</th>\n",
       "      <th>title</th>\n",
       "      <th>url</th>\n",
       "      <th>simple_content</th>\n",
       "      <th>polarity</th>\n",
       "      <th>subjectivity</th>\n",
       "    </tr>\n",
       "  </thead>\n",
       "  <tbody>\n",
       "    <tr>\n",
       "      <th>0</th>\n",
       "      <td>True</td>\n",
       "      <td>trump national golf club bedminster new jersey...</td>\n",
       "      <td>2017-08-08 17:55:00</td>\n",
       "      <td>1</td>\n",
       "      <td>Remarks by President Trump Before a Briefing o...</td>\n",
       "      <td>https://www.whitehouse.gov/the-press-office/20...</td>\n",
       "      <td>trump national golf club bedminster new jersey...</td>\n",
       "      <td>0.133176</td>\n",
       "      <td>0.535832</td>\n",
       "    </tr>\n",
       "    <tr>\n",
       "      <th>1</th>\n",
       "      <td>False</td>\n",
       "      <td>hyatt regency capitol hill washington d c p m ...</td>\n",
       "      <td>2017-08-04 21:45:00</td>\n",
       "      <td>1</td>\n",
       "      <td>Remarks by the Vice President to the Young Ame...</td>\n",
       "      <td>https://www.whitehouse.gov/the-press-office/20...</td>\n",
       "      <td>hyatt regency capitol hill washington c p edt ...</td>\n",
       "      <td>0.157024</td>\n",
       "      <td>0.463932</td>\n",
       "    </tr>\n",
       "    <tr>\n",
       "      <th>2</th>\n",
       "      <td>True</td>\n",
       "      <td>the president s weekly address is now availabl...</td>\n",
       "      <td>2017-08-04 20:39:00</td>\n",
       "      <td>1</td>\n",
       "      <td>President Donald J. Trump’s Weekly Address | w...</td>\n",
       "      <td>https://www.whitehouse.gov/the-press-office/20...</td>\n",
       "      <td>president weekly address available watch youtu...</td>\n",
       "      <td>0.400000</td>\n",
       "      <td>0.400000</td>\n",
       "    </tr>\n",
       "    <tr>\n",
       "      <th>3</th>\n",
       "      <td>True</td>\n",
       "      <td>fema headquarters washington d c a m edt the p...</td>\n",
       "      <td>2017-08-04 12:15:07</td>\n",
       "      <td>1</td>\n",
       "      <td>Remarks by President Trump at FEMA Headquarter...</td>\n",
       "      <td>https://www.whitehouse.gov/the-press-office/20...</td>\n",
       "      <td>fema headquarters washington c edt president o...</td>\n",
       "      <td>0.294667</td>\n",
       "      <td>0.512000</td>\n",
       "    </tr>\n",
       "    <tr>\n",
       "      <th>4</th>\n",
       "      <td>True</td>\n",
       "      <td>roosevelt room a m edt the president good morn...</td>\n",
       "      <td>2017-08-03 12:41:00</td>\n",
       "      <td>1</td>\n",
       "      <td>Remarks by President Trump at Department of Ve...</td>\n",
       "      <td>https://www.whitehouse.gov/the-press-office/20...</td>\n",
       "      <td>roosevelt room edt president good morning like...</td>\n",
       "      <td>0.268127</td>\n",
       "      <td>0.453491</td>\n",
       "    </tr>\n",
       "  </tbody>\n",
       "</table>\n",
       "</div>"
      ],
      "text/plain": [
       "   actual_president_guess                                            content  \\\n",
       "0                    True  trump national golf club bedminster new jersey...   \n",
       "1                   False  hyatt regency capitol hill washington d c p m ...   \n",
       "2                    True  the president s weekly address is now availabl...   \n",
       "3                    True  fema headquarters washington d c a m edt the p...   \n",
       "4                    True  roosevelt room a m edt the president good morn...   \n",
       "\n",
       "                 date  president  \\\n",
       "0 2017-08-08 17:55:00          1   \n",
       "1 2017-08-04 21:45:00          1   \n",
       "2 2017-08-04 20:39:00          1   \n",
       "3 2017-08-04 12:15:07          1   \n",
       "4 2017-08-03 12:41:00          1   \n",
       "\n",
       "                                               title  \\\n",
       "0  Remarks by President Trump Before a Briefing o...   \n",
       "1  Remarks by the Vice President to the Young Ame...   \n",
       "2  President Donald J. Trump’s Weekly Address | w...   \n",
       "3  Remarks by President Trump at FEMA Headquarter...   \n",
       "4  Remarks by President Trump at Department of Ve...   \n",
       "\n",
       "                                                 url  \\\n",
       "0  https://www.whitehouse.gov/the-press-office/20...   \n",
       "1  https://www.whitehouse.gov/the-press-office/20...   \n",
       "2  https://www.whitehouse.gov/the-press-office/20...   \n",
       "3  https://www.whitehouse.gov/the-press-office/20...   \n",
       "4  https://www.whitehouse.gov/the-press-office/20...   \n",
       "\n",
       "                                      simple_content  polarity  subjectivity  \n",
       "0  trump national golf club bedminster new jersey...  0.133176      0.535832  \n",
       "1  hyatt regency capitol hill washington c p edt ...  0.157024      0.463932  \n",
       "2  president weekly address available watch youtu...  0.400000      0.400000  \n",
       "3  fema headquarters washington c edt president o...  0.294667      0.512000  \n",
       "4  roosevelt room edt president good morning like...  0.268127      0.453491  "
      ]
     },
     "execution_count": 114,
     "metadata": {},
     "output_type": "execute_result"
    }
   ],
   "source": [
    "df_new.head()"
   ]
  },
  {
   "cell_type": "code",
   "execution_count": 115,
   "metadata": {
    "collapsed": false
   },
   "outputs": [
    {
     "data": {
      "text/plain": [
       "president\n",
       "0    0.169754\n",
       "1    0.232705\n",
       "Name: polarity, dtype: float64"
      ]
     },
     "execution_count": 115,
     "metadata": {},
     "output_type": "execute_result"
    }
   ],
   "source": [
    "df_new.groupby('president')['polarity'].mean()"
   ]
  },
  {
   "cell_type": "code",
   "execution_count": 116,
   "metadata": {
    "collapsed": false
   },
   "outputs": [
    {
     "name": "stdout",
     "output_type": "stream",
     "text": [
      "-0.9\n",
      "1.0\n"
     ]
    }
   ],
   "source": [
    "# for a view of what the polarities mean...\n",
    "print(getSentiment(\"I hate you and I hope you die in a horrible fire.\").polarity)\n",
    "print(getSentiment(\"The cutest kitten in the world just purred.  Isn't that wonderful?\").polarity)\n",
    "\n"
   ]
  },
  {
   "cell_type": "code",
   "execution_count": 117,
   "metadata": {
    "collapsed": false
   },
   "outputs": [
    {
     "data": {
      "text/plain": [
       "president\n",
       "0    0.460211\n",
       "1    0.473380\n",
       "Name: subjectivity, dtype: float64"
      ]
     },
     "execution_count": 117,
     "metadata": {},
     "output_type": "execute_result"
    }
   ],
   "source": [
    "df_new.groupby('president')['subjectivity'].mean()"
   ]
  },
  {
   "cell_type": "markdown",
   "metadata": {},
   "source": [
    "this is strikingly similar to what some academics on the conversation jusr reported.\n",
    "\n",
    "https://theconversation.com/trump-and-obama-have-one-surprising-thing-in-common-the-words-they-use-81309\n"
   ]
  },
  {
   "cell_type": "code",
   "execution_count": null,
   "metadata": {
    "collapsed": true
   },
   "outputs": [],
   "source": []
  }
 ],
 "metadata": {
  "kernelspec": {
   "display_name": "Python 3",
   "language": "python",
   "name": "python3"
  },
  "language_info": {
   "codemirror_mode": {
    "name": "ipython",
    "version": 3
   },
   "file_extension": ".py",
   "mimetype": "text/x-python",
   "name": "python",
   "nbconvert_exporter": "python",
   "pygments_lexer": "ipython3",
   "version": "3.5.1"
  }
 },
 "nbformat": 4,
 "nbformat_minor": 2
}
